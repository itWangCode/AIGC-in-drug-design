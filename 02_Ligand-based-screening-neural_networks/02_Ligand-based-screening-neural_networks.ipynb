{
 "cells": [
  {
   "cell_type": "markdown",
   "source": [
    "# Ligand-based Screening Neural Networks"
   ],
   "metadata": {
    "collapsed": false
   },
   "id": "38880eeca65e8618"
  },
  {
   "cell_type": "markdown",
   "source": [
    "# AIGC在药物设计中的应用：基于配体的筛选 - 神经网络\n",
    "\n",
    "# **Jupyter Notebook** 用于演示如何通过`之前的第一小节的数据 `中的SMILES生成分子表示，并应用神经网络进行基于配体的药物筛选，同时对所有模型进行超参数调优。\n",
    "\n",
    "---\n",
    "\n",
    "## 目录\n",
    "\n",
    "1. [引言](#引言)\n",
    "2. [导入必要的库](#导入必要的库)\n",
    "3. [数据加载与预处理](#数据加载与预处理)\n",
    "    - [加载数据](#加载数据)\n",
    "    - [转换SMILES为分子对象](#转换smiles为分子对象)\n",
    "    - [生成活性标签](#生成活性标签)\n",
    "    - [数据集划分](#数据集划分)\n",
    "4. [分子表示生成](#分子表示生成)\n",
    "    - [分子指纹（Molecular Fingerprints）](#分子指纹molecular-fingerprints)\n",
    "    - [图表示（Graph Representation）](#图表示graph-representation)\n",
    "    - [连续表示（Continuous Representation）](#连续表示continuous-representation)\n",
    "5. [机器学习模型训练与评估](#机器学习模型训练与评估)\n",
    "    - [随机森林（Random Forest）](#随机森林random-forest)\n",
    "        - [超参数调优](#超参数调优)\n",
    "    - [支持向量机（SVM）](#支持向量机svm)\n",
    "        - [超参数调优](#超参数调优-1)\n",
    "    - [人工神经网络（ANN）](#人工神经网络ann)\n",
    "        - [模型建设](#模型建设)\n",
    "        - [模型优化](#模型优化)\n",
    "    - [卷积神经网络（CNN）](#卷积神经网络cnn)\n",
    "        - [模型建设](#模型建设-1)\n",
    "        - [模型优化](#模型优化-1)\n",
    "6. [多靶点筛选与预测](#多靶点筛选与预测)\n",
    "    - [数据准备](#数据准备)\n",
    "    - [模型训练与评估](#模型训练与评估-1)\n",
    "7. [模型评估与可视化](#模型评估与可视化)\n",
    "8. [应用场景设计](#应用场景设计)\n",
    "    - [目标](#目标)\n",
    "    - [流程](#流程)\n",
    "    - [模型优化](#模型优化-2)\n",
    "    - [示例：超参数调优](#示例超参数调优)\n",
    "9. [结论](#结论)\n",
    "10. [参考文献](#参考文献)\n",
    "\n",
    "---\n",
    "\n",
    "## 引言\n",
    "\n",
    "药物设计是一个复杂且漫长的过程，传统方法依赖于实验室实验和计算机辅助设计（CADD）工具，通常需要数年甚至数十年的时间才能从初步的化合物筛选到最终的药物上市。随着生物医学数据的爆炸性增长和计算能力的提升，人工智能（AI）技术，特别是AIGC（人工智能生成内容），正逐渐改变这一格局。AIGC不仅能够自动生成新的分子结构，还能优化现有分子、预测药物-靶标相互作用、多靶点药物的发现和优化，从而加速新药的发现和开发过程。\n",
    "\n",
    "---\n",
    "\n",
    "## 应用场景设计\n",
    "\n",
    "### 目标\n",
    "\n",
    "本项目旨在通过基于配体的筛选，利用神经网络和其他机器学习模型预测化合物的活性，从而加速新药的发现过程。具体应用场景包括：\n",
    "\n",
    "- **新药发现**：筛选出具有高活性的候选分子，加速药物研发。\n",
    "- **药物优化**：优化现有分子的结构，提高其活性和选择性。\n",
    "- **多靶点预测**：预测分子对多个靶标的活性，发现多靶点药物。\n",
    "\n",
    "### 流程\n",
    "\n",
    "1. **数据准备**：收集包含SMILES和活性数据的化合物数据集。\n",
    "2. **分子表示生成**：通过分子指纹、图表示和连续表示等方法，将SMILES转化为机器学习模型可接受的特征。\n",
    "3. **数据集划分**：将数据集划分为训练集和测试集，确保模型的泛化能力。\n",
    "4. **模型训练**：使用随机森林、支持向量机、人工神经网络和卷积神经网络等模型进行训练。\n",
    "5. **模型评估**：通过ROC曲线和AUC值评估模型性能，选择最优模型。\n",
    "6. **应用预测**：使用最优模型对新化合物进行活性预测，筛选出潜在的高活性候选分子。\n",
    "\n",
    "### 模型优化\n",
    "\n",
    "为了提高模型的性能，可以进行以下优化：\n",
    "\n",
    "- **超参数调优**：使用GridSearchCV或RandomizedSearchCV优化模型的超参数。\n",
    "- **特征选择**：通过特征重要性分析或降维方法，选择最具预测能力的特征。\n",
    "- **集成学习**：结合多个模型的预测结果，提升整体的预测性能。\n",
    "\n",
    "## 导入必要的库\n",
    "\n",
    "首先，我们需要导入所需的Python库。这些库包括数据处理、分子表示生成、机器学习模型以及可视化工具。\n"
   ],
   "metadata": {
    "collapsed": false
   },
   "id": "e8754c029bf0eced"
  },
  {
   "cell_type": "code",
   "execution_count": 22,
   "id": "initial_id",
   "metadata": {
    "collapsed": true,
    "ExecuteTime": {
     "end_time": "2024-11-20T17:07:19.726096Z",
     "start_time": "2024-11-20T17:07:19.718307Z"
    }
   },
   "outputs": [],
   "source": [
    "\n",
    "import pandas as pd\n",
    "import numpy as np\n",
    "import os\n",
    "import matplotlib.pyplot as plt\n",
    "import seaborn as sns\n",
    "\n",
    "from rdkit import Chem\n",
    "from rdkit.Chem import AllChem, Descriptors\n",
    "\n",
    "from sklearn.model_selection import train_test_split, GridSearchCV\n",
    "from sklearn.preprocessing import StandardScaler, LabelEncoder\n",
    "from sklearn.ensemble import RandomForestClassifier\n",
    "from sklearn.svm import SVC\n",
    "from sklearn.metrics import roc_curve, auc, confusion_matrix, classification_report, roc_auc_score\n",
    "from sklearn.neural_network import MLPClassifier\n",
    "\n",
    "import torch\n",
    "import torch.nn as nn\n",
    "import torch.optim as optim\n",
    "from torch.utils.data import Dataset, DataLoader\n",
    "\n",
    "# For CNN on SMILES sequences\n",
    "from sklearn.feature_extraction.text import CountVectorizer\n",
    "from sklearn.pipeline import make_pipeline\n",
    "\n",
    "# Set random seed for reproducibility\n",
    "RANDOM_STATE = 42\n",
    "np.random.seed(RANDOM_STATE)\n",
    "torch.manual_seed(RANDOM_STATE)\n",
    "\n",
    "# 防止中文乱码\n",
    "plt.rcParams['font.sans-serif'] = ['SimHei']\n",
    "plt.rcParams['axes.unicode_minus'] = False\n",
    "\n",
    "# 警告信息忽略\n",
    "import warnings\n",
    "warnings.filterwarnings('ignore')\n",
    "\n",
    "\n"
   ]
  },
  {
   "cell_type": "code",
   "outputs": [
    {
     "name": "stdout",
     "output_type": "stream",
     "text": [
      "/Users/wangyang/Desktop/AIGC-in-drug-design/02_Ligand-based-screening-neural_networks/data\n"
     ]
    }
   ],
   "source": [
    "from pathlib import Path\n",
    "import os\n",
    "\n",
    "# 获取当前工作目录\n",
    "HERE = Path(os.getcwd())\n",
    "DATA = HERE / 'data'\n",
    "if not DATA.exists():\n",
    "    DATA.mkdir(parents=True, exist_ok=True)\n",
    "print(DATA)"
   ],
   "metadata": {
    "collapsed": false,
    "ExecuteTime": {
     "end_time": "2024-11-20T17:00:45.525704Z",
     "start_time": "2024-11-20T17:00:45.520893Z"
    }
   },
   "id": "a736c59356d73a85",
   "execution_count": 6
  },
  {
   "cell_type": "markdown",
   "source": [
    "## 数据加载与预处理\n",
    "\n",
    "### 加载数据\n",
    "首先，我们需要加载数据集。数据集包含SMILES、活性值、靶标等信息。"
   ],
   "metadata": {
    "collapsed": false
   },
   "id": "519bd601e84c744"
  },
  {
   "cell_type": "code",
   "outputs": [
    {
     "data": {
      "text/plain": "  molecule_chembl_id   IC50 units  \\\n0      CHEMBL5189340  0.023    nM   \n1       CHEMBL429743  0.030    nM   \n2      CHEMBL5186748  0.120    nM   \n3      CHEMBL3093581  0.140    nM   \n4      CHEMBL3586072  0.140    nM   \n\n                                              smiles      pIC50  \n0  CN(C)c1ccc(/C=N/NC(=O)Cn2nc(Cc3ccc(Cl)cc3)c3cc...  10.638272  \n1  COc1cc2nccc(Oc3ccc4c(C(=O)Nc5ccc(Cl)cc5)cccc4c...  10.522879  \n2  CNC(=O)c1cc(Oc2ccc(NC(=O)c3nn(-c4ccc(Cl)cc4)cc...   9.920819  \n3  O=C(Nc1ccc(Oc2ccc3nc(NC(=O)C4CC4)cn3c2)c(F)c1)...   9.853872  \n4  CNC(=O)c1ccc(-c2ccc(NC(=O)Nc3cc(Br)cc(C(F)(F)F...   9.853872  ",
      "text/html": "<div>\n<style scoped>\n    .dataframe tbody tr th:only-of-type {\n        vertical-align: middle;\n    }\n\n    .dataframe tbody tr th {\n        vertical-align: top;\n    }\n\n    .dataframe thead th {\n        text-align: right;\n    }\n</style>\n<table border=\"1\" class=\"dataframe\">\n  <thead>\n    <tr style=\"text-align: right;\">\n      <th></th>\n      <th>molecule_chembl_id</th>\n      <th>IC50</th>\n      <th>units</th>\n      <th>smiles</th>\n      <th>pIC50</th>\n    </tr>\n  </thead>\n  <tbody>\n    <tr>\n      <th>0</th>\n      <td>CHEMBL5189340</td>\n      <td>0.023</td>\n      <td>nM</td>\n      <td>CN(C)c1ccc(/C=N/NC(=O)Cn2nc(Cc3ccc(Cl)cc3)c3cc...</td>\n      <td>10.638272</td>\n    </tr>\n    <tr>\n      <th>1</th>\n      <td>CHEMBL429743</td>\n      <td>0.030</td>\n      <td>nM</td>\n      <td>COc1cc2nccc(Oc3ccc4c(C(=O)Nc5ccc(Cl)cc5)cccc4c...</td>\n      <td>10.522879</td>\n    </tr>\n    <tr>\n      <th>2</th>\n      <td>CHEMBL5186748</td>\n      <td>0.120</td>\n      <td>nM</td>\n      <td>CNC(=O)c1cc(Oc2ccc(NC(=O)c3nn(-c4ccc(Cl)cc4)cc...</td>\n      <td>9.920819</td>\n    </tr>\n    <tr>\n      <th>3</th>\n      <td>CHEMBL3093581</td>\n      <td>0.140</td>\n      <td>nM</td>\n      <td>O=C(Nc1ccc(Oc2ccc3nc(NC(=O)C4CC4)cn3c2)c(F)c1)...</td>\n      <td>9.853872</td>\n    </tr>\n    <tr>\n      <th>4</th>\n      <td>CHEMBL3586072</td>\n      <td>0.140</td>\n      <td>nM</td>\n      <td>CNC(=O)c1ccc(-c2ccc(NC(=O)Nc3cc(Br)cc(C(F)(F)F...</td>\n      <td>9.853872</td>\n    </tr>\n  </tbody>\n</table>\n</div>"
     },
     "execution_count": 7,
     "metadata": {},
     "output_type": "execute_result"
    }
   ],
   "source": [
    "data_path = HERE / '../01_Molecular_representation/data/bioactivities_compounds_VEGFR2.csv'\n",
    "\n",
    "# 加载数据\n",
    "df = pd.read_csv(data_path)\n",
    "\n",
    "# 显示数据的前几行\n",
    "df.head()"
   ],
   "metadata": {
    "collapsed": false,
    "ExecuteTime": {
     "end_time": "2024-11-20T17:00:45.554090Z",
     "start_time": "2024-11-20T17:00:45.527049Z"
    }
   },
   "id": "62b7b2835da013cd",
   "execution_count": 7
  },
  {
   "cell_type": "code",
   "outputs": [],
   "source": [
    "# 复制一份数据，用于后续的多靶点筛选\n",
    "df = df.copy()"
   ],
   "metadata": {
    "collapsed": false,
    "ExecuteTime": {
     "end_time": "2024-11-20T17:01:08.899524Z",
     "start_time": "2024-11-20T17:01:08.896142Z"
    }
   },
   "id": "1dcff16a56f5f2e5",
   "execution_count": 8
  },
  {
   "cell_type": "markdown",
   "source": [
    "### 转换SMILES为分子对象\n",
    "\n",
    "我们需要将SMILES字符串转换为RDKit分子对象，以便生成分子表示。"
   ],
   "metadata": {
    "collapsed": false
   },
   "id": "9507afada1cf4238"
  },
  {
   "cell_type": "markdown",
   "source": [],
   "metadata": {
    "collapsed": false
   },
   "id": "152b0c11de56b6a4"
  },
  {
   "cell_type": "code",
   "outputs": [
    {
     "name": "stdout",
     "output_type": "stream",
     "text": [
      "有效分子数量: 200\n"
     ]
    }
   ],
   "source": [
    "# 转换SMILES为RDKit分子对象\n",
    "df['mol'] = df['smiles'].apply(lambda x: Chem.MolFromSmiles(x))\n",
    "\n",
    "# 移除无效的SMILES\n",
    "df = df[df['mol'].notnull()].reset_index(drop=True)\n",
    "\n",
    "print(f\"有效分子数量: {len(df)}\")\n"
   ],
   "metadata": {
    "collapsed": false,
    "ExecuteTime": {
     "end_time": "2024-11-20T17:01:29.152353Z",
     "start_time": "2024-11-20T17:01:29.083481Z"
    }
   },
   "id": "42d1e06abcde5d9d",
   "execution_count": 9
  },
  {
   "cell_type": "markdown",
   "source": [
    "### 生成活性标签\n",
    "\n",
    "如果数据集中存在`pic50`列，我们将基于该列生成二分类标签：`pIC50 >= 6.3`为活性阳性（1），否则为阴性（0）。如果没有`pic50`列，则进行随机划分。"
   ],
   "metadata": {
    "collapsed": false
   },
   "id": "6b4aba8158b416d8"
  },
  {
   "cell_type": "code",
   "outputs": [
    {
     "name": "stdout",
     "output_type": "stream",
     "text": [
      "使用 pIC50 划分活性标签\n"
     ]
    }
   ],
   "source": [
    "# 检查是否存在pic50列\n",
    "if 'pIC50' in df.columns:\n",
    "    # 生成二分类标签\n",
    "    df['active'] = df['pIC50'].apply(lambda x: 1 if x >= 8.9 else 0)\n",
    "    print(\"使用 pIC50 划分活性标签\")\n",
    "else:\n",
    "    # 如果没有pic50列，创建一个随机标签\n",
    "    df['active'] = np.random.randint(0, 2, size=len(df))\n",
    "    print(\"没有 pIC50 列，使用随机标签\")\n"
   ],
   "metadata": {
    "collapsed": false,
    "ExecuteTime": {
     "end_time": "2024-11-20T17:02:07.965608Z",
     "start_time": "2024-11-20T17:02:07.961212Z"
    }
   },
   "id": "4ebdfc38c2d96b9a",
   "execution_count": 10
  },
  {
   "cell_type": "markdown",
   "source": [
    "### 数据集划分\n",
    "\n",
    "根据是否存在`pic50`列，选择不同的划分方式。"
   ],
   "metadata": {
    "collapsed": false
   },
   "id": "b195daf176bc2588"
  },
  {
   "cell_type": "code",
   "outputs": [
    {
     "name": "stdout",
     "output_type": "stream",
     "text": [
      "训练集大小: 160\n",
      "测试集大小: 40\n"
     ]
    }
   ],
   "source": [
    "# 特征和标签\n",
    "X = df['smiles']\n",
    "y = df['active']\n",
    "\n",
    "# 划分训练集和测试集\n",
    "X_train, X_test, y_train, y_test = train_test_split(\n",
    "    X, y, test_size=0.2, random_state=RANDOM_STATE, stratify=y if 'pIC50' in df.columns else None\n",
    ")\n",
    "\n",
    "print(f\"训练集大小: {len(X_train)}\")\n",
    "print(f\"测试集大小: {len(X_test)}\")\n"
   ],
   "metadata": {
    "collapsed": false,
    "ExecuteTime": {
     "end_time": "2024-11-20T17:02:32.708838Z",
     "start_time": "2024-11-20T17:02:32.701007Z"
    }
   },
   "id": "cc724ceb96253c56",
   "execution_count": 13
  },
  {
   "cell_type": "markdown",
   "source": [
    "## 分子表示生成\n",
    "\n",
    "### 分子指纹（Molecular Fingerprints）\n",
    "\n",
    "使用RDKit生成Morgan指纹（也称为ECFP4指纹）"
   ],
   "metadata": {
    "collapsed": false
   },
   "id": "1b89ee5c990a3125"
  },
  {
   "cell_type": "code",
   "outputs": [
    {
     "name": "stdout",
     "output_type": "stream",
     "text": [
      "分子指纹生成完成\n"
     ]
    }
   ],
   "source": [
    "def get_morgan_fingerprint(smiles, radius=2, n_bits=2048):\n",
    "    mol = Chem.MolFromSmiles(smiles)\n",
    "    if mol:\n",
    "        fp = AllChem.GetMorganFingerprintAsBitVect(mol, radius, nBits=n_bits)\n",
    "        return np.array(fp)\n",
    "    else:\n",
    "        return np.zeros(n_bits)\n",
    "\n",
    "# 生成指纹\n",
    "X_train_fingerprints = np.array([get_morgan_fingerprint(smile) for smile in X_train])\n",
    "X_test_fingerprints = np.array([get_morgan_fingerprint(smile) for smile in X_test])\n",
    "\n",
    "print(\"分子指纹生成完成\")\n"
   ],
   "metadata": {
    "collapsed": false,
    "ExecuteTime": {
     "end_time": "2024-11-20T17:03:00.182795Z",
     "start_time": "2024-11-20T17:02:59.484644Z"
    }
   },
   "id": "8486dc04fc316857",
   "execution_count": 14
  },
  {
   "cell_type": "markdown",
   "source": [
    "### 图表示（Graph Representation）\n",
    "\n",
    "利用RDKit生成基于图的分子描述符，例如分子描述符。"
   ],
   "metadata": {
    "collapsed": false
   },
   "id": "573418aaa3963efd"
  },
  {
   "cell_type": "code",
   "outputs": [
    {
     "name": "stdout",
     "output_type": "stream",
     "text": [
      "图表示生成完成\n"
     ]
    }
   ],
   "source": [
    "def get_molecular_descriptors(mol):\n",
    "    descriptors = {}\n",
    "    for desc_name, func in Descriptors.descList:\n",
    "        descriptors[desc_name] = func(mol)\n",
    "    return descriptors\n",
    "\n",
    "# 生成分子描述符\n",
    "X_train_graph = df.loc[X_train.index, 'mol'].apply(get_molecular_descriptors).apply(pd.Series).fillna(0).values\n",
    "X_test_graph = df.loc[X_test.index, 'mol'].apply(get_molecular_descriptors).apply(pd.Series).fillna(0).values\n",
    "\n",
    "print(\"图表示生成完成\")\n"
   ],
   "metadata": {
    "collapsed": false,
    "ExecuteTime": {
     "end_time": "2024-11-20T17:03:18.759826Z",
     "start_time": "2024-11-20T17:03:12.686751Z"
    }
   },
   "id": "ac41a118888d39ff",
   "execution_count": 15
  },
  {
   "cell_type": "markdown",
   "source": [
    "## 连续表示（Continuous Representation）\n",
    "使用PCA将指纹降维至较低的维度，以获得连续表示。"
   ],
   "metadata": {
    "collapsed": false
   },
   "id": "bc8756fb1b7ee4b0"
  },
  {
   "cell_type": "code",
   "outputs": [
    {
     "name": "stdout",
     "output_type": "stream",
     "text": [
      "连续表示生成完成\n"
     ]
    }
   ],
   "source": [
    "from sklearn.decomposition import PCA\n",
    "\n",
    "# 标准化指纹\n",
    "scaler = StandardScaler()\n",
    "X_train_fingerprints_scaled = scaler.fit_transform(X_train_fingerprints)\n",
    "X_test_fingerprints_scaled = scaler.transform(X_test_fingerprints)\n",
    "\n",
    "# PCA降维\n",
    "pca = PCA(n_components=100, random_state=RANDOM_STATE)\n",
    "X_train_continuous = pca.fit_transform(X_train_fingerprints_scaled)\n",
    "X_test_continuous = pca.transform(X_test_fingerprints_scaled)\n",
    "\n",
    "print(\"连续表示生成完成\")\n"
   ],
   "metadata": {
    "collapsed": false,
    "ExecuteTime": {
     "end_time": "2024-11-20T17:03:27.445589Z",
     "start_time": "2024-11-20T17:03:27.363318Z"
    }
   },
   "id": "adf044938cf0a48d",
   "execution_count": 16
  },
  {
   "cell_type": "markdown",
   "source": [
    "## 机器学习模型训练与评估\n",
    "\n",
    "### 随机森林（Random Forest）\n",
    "\n",
    "#### 模型训练"
   ],
   "metadata": {
    "collapsed": false
   },
   "id": "3f4510acf4d0d0d3"
  },
  {
   "cell_type": "code",
   "outputs": [
    {
     "name": "stdout",
     "output_type": "stream",
     "text": [
      "随机森林分类报告:\n",
      "              precision    recall  f1-score   support\n",
      "\n",
      "           0       0.00      0.00      0.00         5\n",
      "           1       0.87      0.97      0.92        35\n",
      "\n",
      "    accuracy                           0.85        40\n",
      "   macro avg       0.44      0.49      0.46        40\n",
      "weighted avg       0.76      0.85      0.80        40\n"
     ]
    },
    {
     "data": {
      "text/plain": "<Figure size 800x600 with 1 Axes>",
      "image/png": "[encoded data removed]"
     },
     "metadata": {},
     "output_type": "display_data"
    }
   ],
   "source": [
    "# 训练随机森林模型\n",
    "rf = RandomForestClassifier(n_estimators=100, random_state=RANDOM_STATE)\n",
    "rf.fit(X_train_fingerprints, y_train)\n",
    "\n",
    "# 预测概率\n",
    "y_pred_rf_proba = rf.predict_proba(X_test_fingerprints)[:, 1]\n",
    "\n",
    "# 输出分类报告\n",
    "print(\"随机森林分类报告:\")\n",
    "print(classification_report(y_test, rf.predict(X_test_fingerprints)))\n",
    "# 计算AUC\n",
    "fpr_rf, tpr_rf, _ = roc_curve(y_test, y_pred_rf_proba)\n",
    "roc_auc_rf = auc(fpr_rf, tpr_rf)\n",
    "\n",
    "# 绘制ROC曲线\n",
    "plt.figure(figsize=(8, 6))\n",
    "plt.plot(fpr_rf, tpr_rf, color='blue', label=f'Random Forest (AUC = {roc_auc_rf:.2f})')\n",
    "plt.plot([0, 1], [0, 1], color='grey', linestyle='--')\n",
    "plt.xlabel('False Positive Rate')\n",
    "plt.ylabel('True Positive Rate')\n",
    "plt.title('随机森林 ROC 曲线')\n",
    "plt.legend(loc='lower right')\n",
    "plt.grid(True)\n",
    "# 保存图片，dpi=300为图片分辨率\n",
    "plt.savefig(DATA / 'rf_roc_curve.png', dpi=300)\n",
    "plt.show()\n",
    "\n",
    "\n"
   ],
   "metadata": {
    "collapsed": false,
    "ExecuteTime": {
     "end_time": "2024-11-20T17:06:15.760043Z",
     "start_time": "2024-11-20T17:06:15.259441Z"
    }
   },
   "id": "ea726a5d48187443",
   "execution_count": 20
  },
  {
   "cell_type": "markdown",
   "source": [
    "#### 超参数调优\n",
    "\n",
    "使用GridSearchCV对随机森林进行超参数调优。"
   ],
   "metadata": {
    "collapsed": false
   },
   "id": "ea346007971813d4"
  },
  {
   "cell_type": "code",
   "outputs": [
    {
     "name": "stdout",
     "output_type": "stream",
     "text": [
      "Fitting 5 folds for each of 27 candidates, totalling 135 fits\n",
      "最佳参数: {'max_depth': None, 'min_samples_split': 5, 'n_estimators': 300}\n",
      "最佳AUC: 0.7268\n",
      "最佳随机森林分类报告:\n",
      "              precision    recall  f1-score   support\n",
      "\n",
      "           0       0.00      0.00      0.00         5\n",
      "           1       0.88      1.00      0.93        35\n",
      "\n",
      "    accuracy                           0.88        40\n",
      "   macro avg       0.44      0.50      0.47        40\n",
      "weighted avg       0.77      0.88      0.82        40\n"
     ]
    },
    {
     "data": {
      "text/plain": "<Figure size 800x600 with 1 Axes>",
      "image/png": "[encoded data removed]"
     },
     "metadata": {},
     "output_type": "display_data"
    }
   ],
   "source": [
    "# 定义超参数网格\n",
    "param_grid_rf = {\n",
    "    'n_estimators': [100, 200, 300],\n",
    "    'max_depth': [None, 10, 20],\n",
    "    'min_samples_split': [2, 5, 10]\n",
    "}\n",
    "\n",
    "# 初始化随机森林\n",
    "rf_grid = RandomForestClassifier(random_state=RANDOM_STATE)\n",
    "\n",
    "# 使用GridSearchCV进行超参数调优\n",
    "grid_search_rf = GridSearchCV(\n",
    "    estimator=rf_grid,\n",
    "    param_grid=param_grid_rf,\n",
    "    cv=5,\n",
    "    scoring='roc_auc',\n",
    "    n_jobs=-1,\n",
    "    verbose=1\n",
    ")\n",
    "\n",
    "# 执行网格搜索\n",
    "grid_search_rf.fit(X_train_fingerprints, y_train)\n",
    "\n",
    "print(f\"最佳参数: {grid_search_rf.best_params_}\")\n",
    "print(f\"最佳AUC: {grid_search_rf.best_score_:.4f}\")\n",
    "\n",
    "# 使用最佳参数训练随机森林\n",
    "best_rf = grid_search_rf.best_estimator_\n",
    "y_pred_best_rf_proba = best_rf.predict_proba(X_test_fingerprints)[:, 1]\n",
    "\n",
    "# 计算AUC\n",
    "fpr_best_rf, tpr_best_rf, _ = roc_curve(y_test, y_pred_best_rf_proba)\n",
    "roc_auc_best_rf = auc(fpr_best_rf, tpr_best_rf)\n",
    "\n",
    "# 输出分类报告\n",
    "print(\"最佳随机森林分类报告:\")\n",
    "print(classification_report(y_test, best_rf.predict(X_test_fingerprints)))\n",
    "\n",
    "# 绘制ROC曲线\n",
    "plt.figure(figsize=(8, 6))\n",
    "plt.plot(fpr_best_rf, tpr_best_rf, color='blue', label=f'Best Random Forest (AUC = {roc_auc_best_rf:.2f})')\n",
    "plt.plot([0, 1], [0, 1], color='grey', linestyle='--')\n",
    "plt.xlabel('False Positive Rate')\n",
    "plt.ylabel('True Positive Rate')\n",
    "plt.title('最佳随机森林 ROC 曲线')\n",
    "plt.legend(loc='lower right')\n",
    "plt.grid(True)\n",
    "# 保存图片，dpi=300为图片分辨率\n",
    "plt.savefig(DATA / 'best_rf_roc_curve.png', dpi=300)\n",
    "plt.show()\n"
   ],
   "metadata": {
    "collapsed": false,
    "ExecuteTime": {
     "end_time": "2024-11-20T17:07:34.430584Z",
     "start_time": "2024-11-20T17:07:25.372543Z"
    }
   },
   "id": "fc28321fd7082d8b",
   "execution_count": 23
  },
  {
   "cell_type": "markdown",
   "source": [
    "### 支持向量机（SVM）\n",
    "\n",
    "#### 模型训练"
   ],
   "metadata": {
    "collapsed": false
   },
   "id": "729e0ed5233cf4c"
  },
  {
   "cell_type": "code",
   "outputs": [
    {
     "name": "stdout",
     "output_type": "stream",
     "text": [
      "支持向量机分类报告:\n",
      "              precision    recall  f1-score   support\n",
      "\n",
      "           0       0.00      0.00      0.00         5\n",
      "           1       0.88      1.00      0.93        35\n",
      "\n",
      "    accuracy                           0.88        40\n",
      "   macro avg       0.44      0.50      0.47        40\n",
      "weighted avg       0.77      0.88      0.82        40\n"
     ]
    },
    {
     "data": {
      "text/plain": "<Figure size 800x600 with 1 Axes>",
      "image/png": "[encoded data removed]"
     },
     "metadata": {},
     "output_type": "display_data"
    }
   ],
   "source": [
    "# 训练SVM模型\n",
    "svm = SVC(probability=True, random_state=RANDOM_STATE)\n",
    "svm.fit(X_train_fingerprints, y_train)\n",
    "\n",
    "# 预测概率\n",
    "y_pred_svm_proba = svm.predict_proba(X_test_fingerprints)[:, 1]\n",
    "\n",
    "# 输出分类报告\n",
    "print(\"支持向量机分类报告:\")\n",
    "print(classification_report(y_test, svm.predict(X_test_fingerprints)))\n",
    "# 计算AUC\n",
    "fpr_svm, tpr_svm, _ = roc_curve(y_test, y_pred_svm_proba)\n",
    "roc_auc_svm = auc(fpr_svm, tpr_svm)\n",
    "\n",
    "# 绘制ROC曲线\n",
    "plt.figure(figsize=(8, 6))\n",
    "plt.plot(fpr_svm, tpr_svm, color='blue', label=f'SVM (AUC = {roc_auc_svm:.2f})')\n",
    "plt.plot([0, 1], [0, 1], color='grey', linestyle='--')\n",
    "plt.xlabel('False Positive Rate')\n",
    "plt.ylabel('True Positive Rate')\n",
    "plt.title('支持向量机 ROC 曲线')\n",
    "plt.legend(loc='lower right')\n",
    "plt.grid(True)\n",
    "# 保存图片，dpi=300为图片分辨率\n",
    "plt.savefig(DATA /'svm_roc_curve.png', dpi=300)\n",
    "plt.show()\n",
    "\n",
    "\n"
   ],
   "metadata": {
    "collapsed": false,
    "ExecuteTime": {
     "end_time": "2024-11-20T17:08:54.725701Z",
     "start_time": "2024-11-20T17:08:54.295976Z"
    }
   },
   "id": "e2b2097cbaaa4a7f",
   "execution_count": 25
  },
  {
   "cell_type": "markdown",
   "source": [
    "#### 超参数调优\n",
    "\n",
    "使用GridSearchCV对SVM进行超参数调优。"
   ],
   "metadata": {
    "collapsed": false
   },
   "id": "15338d5df455842c"
  },
  {
   "cell_type": "code",
   "outputs": [
    {
     "name": "stdout",
     "output_type": "stream",
     "text": [
      "Fitting 5 folds for each of 18 candidates, totalling 90 fits\n",
      "最佳参数: {'C': 10, 'gamma': 'scale', 'kernel': 'linear'}\n",
      "最佳AUC: 0.7393\n",
      "最佳SVM分类报告:\n",
      "              precision    recall  f1-score   support\n",
      "\n",
      "           0       0.60      0.60      0.60         5\n",
      "           1       0.94      0.94      0.94        35\n",
      "\n",
      "    accuracy                           0.90        40\n",
      "   macro avg       0.77      0.77      0.77        40\n",
      "weighted avg       0.90      0.90      0.90        40\n"
     ]
    },
    {
     "data": {
      "text/plain": "<Figure size 800x600 with 1 Axes>",
      "image/png": "[encoded data removed]"
     },
     "metadata": {},
     "output_type": "display_data"
    }
   ],
   "source": [
    "# 定义超参数网格\n",
    "param_grid_svm = {\n",
    "    'C': [0.1, 1, 10],\n",
    "    'kernel': ['linear', 'rbf', 'poly'],\n",
    "    'gamma': ['scale', 'auto']\n",
    "}\n",
    "\n",
    "# 初始化SVM\n",
    "svm_grid = SVC(probability=True, random_state=RANDOM_STATE)\n",
    "\n",
    "# 使用GridSearchCV进行超参数调优\n",
    "grid_search_svm = GridSearchCV(\n",
    "    estimator=svm_grid,\n",
    "    param_grid=param_grid_svm,\n",
    "    cv=5,\n",
    "    scoring='roc_auc',\n",
    "    n_jobs=-1,\n",
    "    verbose=1\n",
    ")\n",
    "\n",
    "# 执行网格搜索\n",
    "grid_search_svm.fit(X_train_fingerprints, y_train)\n",
    "\n",
    "print(f\"最佳参数: {grid_search_svm.best_params_}\")\n",
    "print(f\"最佳AUC: {grid_search_svm.best_score_:.4f}\")\n",
    "\n",
    "# 使用最佳参数训练SVM\n",
    "best_svm = grid_search_svm.best_estimator_\n",
    "y_pred_best_svm_proba = best_svm.predict_proba(X_test_fingerprints)[:, 1]\n",
    "\n",
    "# 计算AUC\n",
    "fpr_best_svm, tpr_best_svm, _ = roc_curve(y_test, y_pred_best_svm_proba)\n",
    "roc_auc_best_svm = auc(fpr_best_svm, tpr_best_svm)\n",
    "\n",
    "# 输出分类报告\n",
    "print(\"最佳SVM分类报告:\")\n",
    "print(classification_report(y_test, best_svm.predict(X_test_fingerprints)))\n",
    "\n",
    "# 绘制ROC曲线\n",
    "plt.figure(figsize=(8, 6))\n",
    "plt.plot(fpr_best_svm, tpr_best_svm, color='green', label=f'Best SVM (AUC = {roc_auc_best_svm:.2f})')\n",
    "plt.plot([0, 1], [0, 1], color='grey', linestyle='--')\n",
    "plt.xlabel('False Positive Rate')\n",
    "plt.ylabel('True Positive Rate')\n",
    "plt.title('最佳SVM ROC 曲线')\n",
    "plt.legend(loc='lower right')\n",
    "plt.grid(True)\n",
    "# 保存图片，dpi=300为图片分辨率\n",
    "plt.savefig(DATA / 'best_svm_roc_curve.png', dpi=300)\n",
    "plt.show()\n"
   ],
   "metadata": {
    "collapsed": false,
    "ExecuteTime": {
     "end_time": "2024-11-20T17:09:25.734244Z",
     "start_time": "2024-11-20T17:09:22.773640Z"
    }
   },
   "id": "d69a870cdad6349a",
   "execution_count": 26
  },
  {
   "cell_type": "markdown",
   "source": [
    "### 人工神经网络（ANN）\n",
    "\n",
    "#### 模型建设\n",
    "\n",
    "构建一个简单的全连接神经网络。"
   ],
   "metadata": {
    "collapsed": false
   },
   "id": "921180740235813c"
  },
  {
   "cell_type": "code",
   "outputs": [],
   "source": [
    "class ANN(nn.Module):\n",
    "    def __init__(self, input_size):\n",
    "        super(ANN, self).__init__()\n",
    "        self.fc1 = nn.Linear(input_size, 512)\n",
    "        self.relu1 = nn.ReLU()\n",
    "        self.fc2 = nn.Linear(512, 256)\n",
    "        self.relu2 = nn.ReLU()\n",
    "        self.fc3 = nn.Linear(256, 1)\n",
    "        self.sigmoid = nn.Sigmoid()\n",
    "    \n",
    "    def forward(self, x):\n",
    "        out = self.relu1(self.fc1(x))\n",
    "        out = self.relu2(self.fc2(out))\n",
    "        out = self.sigmoid(self.fc3(out))\n",
    "        return out\n",
    "# 实例化模型\n",
    "input_size = X_train_fingerprints.shape[1]\n",
    "model = ANN(input_size)\n",
    "\n",
    "# 定义损失函数和优化器\n",
    "criterion = nn.BCELoss()\n",
    "optimizer = torch.optim.Adam(model.parameters(), lr=0.001)\n",
    "\n"
   ],
   "metadata": {
    "collapsed": false,
    "ExecuteTime": {
     "end_time": "2024-11-20T17:10:58.907625Z",
     "start_time": "2024-11-20T17:10:57.567417Z"
    }
   },
   "id": "fb5592da1a6535",
   "execution_count": 27
  },
  {
   "cell_type": "markdown",
   "source": [
    "#### 模型优化\n",
    "\n",
    "创建数据集、训练模型，并进行评估。"
   ],
   "metadata": {
    "collapsed": false
   },
   "id": "a73fb16974d5e9b7"
  },
  {
   "cell_type": "code",
   "outputs": [
    {
     "name": "stdout",
     "output_type": "stream",
     "text": [
      "Epoch [1/20], Loss: 0.4922\n",
      "Epoch [2/20], Loss: 0.3120\n",
      "Epoch [3/20], Loss: 0.2254\n",
      "Epoch [4/20], Loss: 0.1706\n",
      "Epoch [5/20], Loss: 0.1266\n",
      "Epoch [6/20], Loss: 0.0952\n",
      "Epoch [7/20], Loss: 0.0682\n",
      "Epoch [8/20], Loss: 0.0539\n",
      "Epoch [9/20], Loss: 0.0404\n",
      "Epoch [10/20], Loss: 0.0311\n",
      "Epoch [11/20], Loss: 0.0232\n",
      "Epoch [12/20], Loss: 0.0173\n",
      "Epoch [13/20], Loss: 0.0130\n",
      "Epoch [14/20], Loss: 0.0125\n",
      "Epoch [15/20], Loss: 0.0112\n",
      "Epoch [16/20], Loss: 0.0082\n",
      "Epoch [17/20], Loss: 0.0054\n",
      "Epoch [18/20], Loss: 0.0053\n",
      "Epoch [19/20], Loss: 0.0040\n",
      "Epoch [20/20], Loss: 0.0035\n"
     ]
    }
   ],
   "source": [
    "# 创建数据集\n",
    "class MoleculeDataset(Dataset):\n",
    "    def __init__(self, X, y):\n",
    "        self.X = torch.tensor(X, dtype=torch.float32)\n",
    "        self.y = torch.tensor(y.values, dtype=torch.float32).view(-1, 1)\n",
    "    \n",
    "    def __len__(self):\n",
    "        return len(self.y)\n",
    "    \n",
    "    def __getitem__(self, idx):\n",
    "        return self.X[idx], self.y[idx]\n",
    "\n",
    "train_dataset = MoleculeDataset(X_train_continuous, y_train)\n",
    "test_dataset = MoleculeDataset(X_test_continuous, y_test)\n",
    "\n",
    "train_loader = DataLoader(train_dataset, batch_size=32, shuffle=True)\n",
    "test_loader = DataLoader(test_dataset, batch_size=32, shuffle=False)\n",
    "\n",
    "# 初始化模型\n",
    "ann = ANN(input_size=X_train_continuous.shape[1])\n",
    "criterion = nn.BCELoss()\n",
    "optimizer = optim.Adam(ann.parameters(), lr=0.001)\n",
    "\n",
    "# 训练模型\n",
    "epochs = 20\n",
    "ann.train()\n",
    "for epoch in range(epochs):\n",
    "    running_loss = 0.0\n",
    "    for X_batch, y_batch in train_loader:\n",
    "        optimizer.zero_grad()\n",
    "        outputs = ann(X_batch)\n",
    "        loss = criterion(outputs, y_batch)\n",
    "        loss.backward()\n",
    "        optimizer.step()\n",
    "        running_loss += loss.item()\n",
    "    avg_loss = running_loss / len(train_loader)\n",
    "    print(f\"Epoch [{epoch+1}/{epochs}], Loss: {avg_loss:.4f}\")\n"
   ],
   "metadata": {
    "collapsed": false,
    "ExecuteTime": {
     "end_time": "2024-11-20T17:11:13.170099Z",
     "start_time": "2024-11-20T17:11:12.871788Z"
    }
   },
   "id": "bf6f67bc9acb5b5c",
   "execution_count": 28
  },
  {
   "cell_type": "markdown",
   "source": [
    "模型评估"
   ],
   "metadata": {
    "collapsed": false
   },
   "id": "bbf9077edc27501a"
  },
  {
   "cell_type": "code",
   "outputs": [],
   "source": [
    "# 评估模型\n",
    "ann.eval()\n",
    "y_pred_ann_proba = []\n",
    "with torch.no_grad():\n",
    "    for X_batch, _ in test_loader:\n",
    "        outputs = ann(X_batch)\n",
    "        y_pred_ann_proba.extend(outputs.numpy().flatten())\n",
    "\n",
    "# 输出分类报告\n",
    "y_pred_ann = [1 if prob >= 0.5 else 0 for prob in y_pred_ann_proba]\n",
    "print(\"人工神经网络分类报告:\")\n",
    "print(classification_report(y_test, y_pred_ann))\n"
   ],
   "metadata": {
    "collapsed": false,
    "is_executing": true,
    "ExecuteTime": {
     "start_time": "2024-11-20T17:11:30.309325Z"
    }
   },
   "id": "d63a7a74d89ef0e6"
  },
  {
   "cell_type": "markdown",
   "source": [
    "#### 超参数调优\n",
    "\n",
    "使用GridSearchCV对ANN进行超参数调优。\n",
    "\n",
    "由于ANN是使用PyTorch构建的，无法直接使用GridSearchCV。我们可以使用`skorch`库，它将PyTorch模型封装为sklearn兼容模型。\n",
    "\n",
    "首先，安装`skorch`：\n",
    "\n",
    "```python\n",
    "!pip install skorch\n",
    "```\n"
   ],
   "metadata": {
    "collapsed": false
   },
   "id": "fb3df8affc409425"
  },
  {
   "cell_type": "markdown",
   "source": [
    "然后，进行超参数调优。"
   ],
   "metadata": {
    "collapsed": false
   },
   "id": "c936736e92633cae"
  },
  {
   "cell_type": "code",
   "outputs": [],
   "source": [
    "from skorch import NeuralNetBinaryClassifier\n",
    "from skorch.callbacks import EarlyStopping\n",
    "from sklearn.model_selection import GridSearchCV\n",
    "\n",
    "# 定义ANN模型包装\n",
    "net = NeuralNetBinaryClassifier(\n",
    "    ANN,\n",
    "    module__input_size=X_train_continuous.shape[1],\n",
    "    max_epochs=50,\n",
    "    lr=0.001,\n",
    "    optimizer=optim.Adam,\n",
    "    criterion=nn.BCELoss,\n",
    "    batch_size=32,\n",
    "    iterator_train__shuffle=True,\n",
    "    callbacks=[EarlyStopping(patience=5)],\n",
    "    device='cpu'  # Use 'cuda' if GPU is available\n",
    ")\n",
    "\n",
    "# 定义参数网格\n",
    "params = {\n",
    "    'module__input_size': [X_train_continuous.shape[1]],\n",
    "    'lr': [0.001, 0.0001],\n",
    "    'max_epochs': [30, 50],\n",
    "    'module__fc1__out_features': [512, 256],\n",
    "    'module__fc2__out_features': [256, 128]\n",
    "}\n",
    "\n",
    "# 初始化GridSearchCV\n",
    "gs = GridSearchCV(net, params, refit=True, cv=3, scoring='roc_auc', verbose=2, n_jobs=-1)\n",
    "\n",
    "# 执行网格搜索\n",
    "gs.fit(X_train_continuous, y_train)\n",
    "\n",
    "print(f\"最佳参数: {gs.best_params_}\")\n",
    "print(f\"最佳AUC: {gs.best_score_:.4f}\")\n",
    "\n",
    "# 使用最佳模型进行预测\n",
    "y_pred_best_ann_proba = gs.best_estimator_.predict_proba(X_test_continuous)[:, 1]\n",
    "\n",
    "# 计算AUC\n",
    "roc_auc_best_ann = roc_auc_score(y_test, y_pred_best_ann_proba)\n",
    "\n",
    "# 输出分类报告\n",
    "y_pred_best_ann = [1 if prob >= 0.5 else 0 for prob in y_pred_best_ann_proba]\n",
    "print(\"最佳人工神经网络分类报告:\")\n",
    "print(classification_report(y_test, y_pred_best_ann))\n",
    "\n",
    "# 绘制ROC曲线\n",
    "fpr_best_ann, tpr_best_ann, _ = roc_curve(y_test, y_pred_best_ann_proba)\n",
    "\n",
    "plt.figure(figsize=(8, 6))\n",
    "plt.plot(fpr_best_ann, tpr_best_ann, color='red', label=f'Best ANN (AUC = {roc_auc_best_ann:.2f})')\n",
    "plt.plot([0, 1], [0, 1], color='grey', linestyle='--')\n",
    "plt.xlabel('False Positive Rate')\n",
    "plt.ylabel('True Positive Rate')\n",
    "plt.title('最佳人工神经网络 ROC 曲线')\n",
    "plt.legend(loc='lower right')\n",
    "plt.grid(True)\n",
    "# 保存图片，dpi=300为图片分辨率\n",
    "plt.savefig(DATA / 'best_ann_roc_curve.png', dpi=300)\n",
    "plt.show()\n"
   ],
   "metadata": {
    "collapsed": false,
    "is_executing": true
   },
   "id": "5404b1cb5a165955"
  },
  {
   "cell_type": "markdown",
   "source": [
    "### 卷积神经网络（CNN）\n",
    "\n",
    "#### 模型建设\n",
    "\n",
    "这里，我们将使用SMILES字符串的字符级嵌入并应用1D CNN进行预测。"
   ],
   "metadata": {
    "collapsed": false
   },
   "id": "ab70e5e937cfbe79"
  },
  {
   "cell_type": "code",
   "outputs": [],
   "source": [
    "# 使用CountVectorizer将SMILES转化为特征向量\n",
    "vectorizer = CountVectorizer(analyzer='char', ngram_range=(2, 3))\n",
    "X_train_smiles = vectorizer.fit_transform(X_train).toarray()\n",
    "X_test_smiles = vectorizer.transform(X_test).toarray()\n",
    "\n",
    "# 标准化\n",
    "scaler_cnn = StandardScaler()\n",
    "X_train_smiles_scaled = scaler_cnn.fit_transform(X_train_smiles)\n",
    "X_test_smiles_scaled = scaler_cnn.transform(X_test_smiles)\n",
    "\n",
    "# 定义CNN模型\n",
    "class SimpleCNN(nn.Module):\n",
    "    def __init__(self, input_size, num_classes=1):\n",
    "        super(SimpleCNN, self).__init__()\n",
    "        self.conv1 = nn.Conv1d(in_channels=1, out_channels=32, kernel_size=3, padding=1)\n",
    "        self.relu1 = nn.ReLU()\n",
    "        self.pool1 = nn.MaxPool1d(kernel_size=2)\n",
    "        self.conv2 = nn.Conv1d(32, 64, 3, padding=1)\n",
    "        self.relu2 = nn.ReLU()\n",
    "        self.pool2 = nn.MaxPool1d(2)\n",
    "        self.fc1 = nn.Linear(64 * (input_size // 4), 128)\n",
    "        self.relu3 = nn.ReLU()\n",
    "        self.fc2 = nn.Linear(128, 1)\n",
    "        self.sigmoid = nn.Sigmoid()\n",
    "    \n",
    "    def forward(self, x):\n",
    "        out = self.pool1(self.relu1(self.conv1(x)))\n",
    "        out = self.pool2(self.relu2(self.conv2(out)))\n",
    "        out = out.view(out.size(0), -1)\n",
    "        out = self.relu3(self.fc1(out))\n",
    "        out = self.sigmoid(self.fc2(out))\n",
    "        return out\n"
   ],
   "metadata": {
    "collapsed": false,
    "is_executing": true
   },
   "id": "e1d3829fce35ded3"
  },
  {
   "cell_type": "markdown",
   "source": [
    "#### 模型优化\n",
    "\n",
    "创建数据集、训练模型，并进行评估。"
   ],
   "metadata": {
    "collapsed": false
   },
   "id": "2b45f84f6db3f41f"
  },
  {
   "cell_type": "code",
   "outputs": [],
   "source": [
    "# 创建数据集\n",
    "class SMILESDataset(Dataset):\n",
    "    def __init__(self, X, y):\n",
    "        self.X = torch.tensor(X, dtype=torch.float32).unsqueeze(1)  # Add channel dimension\n",
    "        self.y = torch.tensor(y.values, dtype=torch.float32).view(-1, 1)\n",
    "    \n",
    "    def __len__(self):\n",
    "        return len(self.y)\n",
    "    \n",
    "    def __getitem__(self, idx):\n",
    "        return self.X[idx], self.y[idx]\n",
    "\n",
    "train_dataset_cnn = SMILESDataset(X_train_smiles_scaled, y_train)\n",
    "test_dataset_cnn = SMILESDataset(X_test_smiles_scaled, y_test)\n",
    "\n",
    "train_loader_cnn = DataLoader(train_dataset_cnn, batch_size=32, shuffle=True)\n",
    "test_loader_cnn = DataLoader(test_dataset_cnn, batch_size=32, shuffle=False)\n",
    "\n",
    "# 初始化模型\n",
    "input_size_cnn = X_train_smiles_scaled.shape[1]\n",
    "cnn = SimpleCNN(input_size=input_size_cnn)\n",
    "criterion_cnn = nn.BCELoss()\n",
    "optimizer_cnn = optim.Adam(cnn.parameters(), lr=0.001)\n",
    "\n",
    "# 训练模型\n",
    "epochs_cnn = 10\n",
    "cnn.train()\n",
    "for epoch in range(epochs_cnn):\n",
    "    running_loss = 0.0\n",
    "    for X_batch, y_batch in train_loader_cnn:\n",
    "        optimizer_cnn.zero_grad()\n",
    "        outputs = cnn(X_batch)\n",
    "        loss = criterion_cnn(outputs, y_batch)\n",
    "        loss.backward()\n",
    "        optimizer_cnn.step()\n",
    "        running_loss += loss.item()\n",
    "    avg_loss = running_loss / len(train_loader_cnn)\n",
    "    print(f\"Epoch [{epoch+1}/{epochs_cnn}], Loss: {avg_loss:.4f}\")\n"
   ],
   "metadata": {
    "collapsed": false,
    "is_executing": true
   },
   "id": "c2af2acf5d2ab36b"
  },
  {
   "cell_type": "markdown",
   "source": [
    "模型评估"
   ],
   "metadata": {
    "collapsed": false
   },
   "id": "a96c296dba8392fa"
  },
  {
   "cell_type": "code",
   "outputs": [],
   "source": [
    "# 评估模型\n",
    "cnn.eval()\n",
    "y_pred_cnn_proba = []\n",
    "with torch.no_grad():\n",
    "    for X_batch, _ in test_loader_cnn:\n",
    "        outputs = cnn(X_batch)\n",
    "        y_pred_cnn_proba.extend(outputs.numpy().flatten())\n",
    "\n",
    "# 输出分类报告\n",
    "y_pred_cnn = [1 if prob >= 0.5 else 0 for prob in y_pred_cnn_proba]\n",
    "print(\"卷积神经网络分类报告:\")\n",
    "print(classification_report(y_test, y_pred_cnn))\n"
   ],
   "metadata": {
    "collapsed": false,
    "is_executing": true
   },
   "id": "3705a9cdc3d04f55"
  },
  {
   "cell_type": "code",
   "outputs": [],
   "source": [],
   "metadata": {
    "collapsed": false
   },
   "id": "a10fa33214e0e48b"
  },
  {
   "cell_type": "markdown",
   "source": [
    "#### 超参数调优\n",
    "\n",
    "使用`skorch`对CNN进行超参数调优。"
   ],
   "metadata": {
    "collapsed": false
   },
   "id": "ab457b76ac1e2dfc"
  },
  {
   "cell_type": "code",
   "outputs": [],
   "source": [
    "from skorch import NeuralNetBinaryClassifier\n",
    "from skorch.callbacks import EarlyStopping\n",
    "from sklearn.model_selection import GridSearchCV\n",
    "\n",
    "# 定义CNN模型包装\n",
    "class SkorchCNN(nn.Module):\n",
    "    def __init__(self, input_size, num_classes=1):\n",
    "        super(SkorchCNN, self).__init__()\n",
    "        self.conv1 = nn.Conv1d(in_channels=1, out_channels=32, kernel_size=3, padding=1)\n",
    "        self.relu1 = nn.ReLU()\n",
    "        self.pool1 = nn.MaxPool1d(kernel_size=2)\n",
    "        self.conv2 = nn.Conv1d(32, 64, 3, padding=1)\n",
    "        self.relu2 = nn.ReLU()\n",
    "        self.pool2 = nn.MaxPool1d(2)\n",
    "        self.fc1 = nn.Linear(64 * (input_size // 4), 128)\n",
    "        self.relu3 = nn.ReLU()\n",
    "        self.fc2 = nn.Linear(128, num_classes)\n",
    "        self.sigmoid = nn.Sigmoid()\n",
    "    \n",
    "    def forward(self, x):\n",
    "        out = self.pool1(self.relu1(self.conv1(x)))\n",
    "        out = self.pool2(self.relu2(self.conv2(out)))\n",
    "        out = out.view(out.size(0), -1)\n",
    "        out = self.relu3(self.fc1(out))\n",
    "        out = self.sigmoid(self.fc2(out))\n",
    "        return out\n",
    "\n",
    "# 定义网络\n",
    "net_cnn = NeuralNetBinaryClassifier(\n",
    "    SkorchCNN,\n",
    "    module__input_size=input_size_cnn,\n",
    "    max_epochs=50,\n",
    "    lr=0.001,\n",
    "    optimizer=optim.Adam,\n",
    "    criterion=nn.BCELoss,\n",
    "    batch_size=32,\n",
    "    iterator_train__shuffle=True,\n",
    "    callbacks=[EarlyStopping(patience=5)],\n",
    "    device='cpu'  # Use 'cuda' if GPU is available\n",
    ")\n",
    "\n",
    "# 定义参数网格\n",
    "params_cnn = {\n",
    "    'lr': [0.001, 0.0001],\n",
    "    'max_epochs': [20, 30],\n",
    "    'module__conv1__out_channels': [32, 64],\n",
    "    'module__fc1__out_features': [128, 256]\n",
    "}\n",
    "\n",
    "# 初始化GridSearchCV\n",
    "grid_search_cnn = GridSearchCV(\n",
    "    net_cnn,\n",
    "    params_cnn,\n",
    "    refit=True,\n",
    "    cv=3,\n",
    "    scoring='roc_auc',\n",
    "    verbose=2,\n",
    "    n_jobs=-1\n",
    ")\n",
    "\n",
    "# 执行网格搜索\n",
    "grid_search_cnn.fit(X_train_smiles_scaled, y_train)\n",
    "\n",
    "print(f\"最佳参数: {grid_search_cnn.best_params_}\")\n",
    "print(f\"最佳AUC: {grid_search_cnn.best_score_:.4f}\")\n",
    "\n",
    "# 使用最佳模型进行预测\n",
    "y_pred_best_cnn_proba = grid_search_cnn.best_estimator_.predict_proba(X_test_smiles_scaled)[:, 1]\n",
    "\n",
    "# 计算AUC\n",
    "roc_auc_best_cnn = roc_auc_score(y_test, y_pred_best_cnn_proba)\n",
    "\n",
    "# 输出分类报告\n",
    "y_pred_best_cnn = [1 if prob >= 0.5 else 0 for prob in y_pred_best_cnn_proba]\n",
    "print(\"最佳卷积神经网络分类报告:\")\n",
    "print(classification_report(y_test, y_pred_best_cnn))\n",
    "\n",
    "# 绘制ROC曲线\n",
    "fpr_best_cnn, tpr_best_cnn, _ = roc_curve(y_test, y_pred_best_cnn_proba)\n",
    "\n",
    "plt.figure(figsize=(8, 6))\n",
    "plt.plot(fpr_best_cnn, tpr_best_cnn, color='purple', label=f'Best CNN (AUC = {roc_auc_best_cnn:.2f})')\n",
    "plt.plot([0, 1], [0, 1], color='grey', linestyle='--')\n",
    "plt.xlabel('False Positive Rate')\n",
    "plt.ylabel('True Positive Rate')\n",
    "plt.title('最佳卷积神经网络 ROC 曲线')\n",
    "plt.legend(loc='lower right')\n",
    "plt.grid(True)\n",
    "# 保存图片，dpi=300为图片分辨率\n",
    "plt.savefig(DATA / 'best_cnn_roc_curve.png', dpi=300)\n",
    "plt.show()\n"
   ],
   "metadata": {
    "collapsed": false,
    "is_executing": true
   },
   "id": "e452e6dbfc3f9801"
  },
  {
   "cell_type": "markdown",
   "source": [
    "## 多靶点筛选与预测\n",
    "\n",
    "### 数据准备\n",
    "\n",
    "多靶点筛选需要一个包含多个靶标活性的数据集。在`DATA`中，假设每个分子对应多个靶标的活性信息。如果数据集中有多个`pic50`列对应不同的靶标，我们可以进行多标签分类。"
   ],
   "metadata": {
    "collapsed": false
   },
   "id": "629fc046ce740a3d"
  },
  {
   "cell_type": "markdown",
   "source": [
    "## 应用场景设计\n",
    "\n",
    "### 目标\n",
    "\n",
    "本项目旨在通过基于配体的筛选，利用神经网络和其他机器学习模型预测化合物的活性，从而加速新药的发现过程。具体应用场景包括：\n",
    "\n",
    "- **新药发现**：筛选出具有高活性的候选分子，加速药物研发。\n",
    "- **药物优化**：优化现有分子的结构，提高其活性和选择性。\n",
    "- **多靶点预测**：预测分子对多个靶标的活性，发现多靶点药物。\n",
    "\n",
    "### 流程\n",
    "\n",
    "1. **数据准备**：收集包含SMILES和活性数据的化合物数据集。\n",
    "2. **分子表示生成**：通过分子指纹、图表示和连续表示等方法，将SMILES转化为机器学习模型可接受的特征。\n",
    "3. **数据集划分**：将数据集划分为训练集和测试集，确保模型的泛化能力。\n",
    "4. **模型训练**：使用随机森林、支持向量机、人工神经网络和卷积神经网络等模型进行训练。\n",
    "5. **模型评估**：通过ROC曲线和AUC值评估模型性能，选择最优模型。\n",
    "6. **应用预测**：使用最优模型对新化合物进行活性预测，筛选出潜在的高活性候选分子。\n",
    "\n",
    "### 模型优化\n",
    "\n",
    "为了提高模型的性能，可以进行以下优化：\n",
    "\n",
    "- **超参数调优**：使用GridSearchCV或RandomizedSearchCV优化模型的超参数。\n",
    "- **特征选择**：通过特征重要性分析或降维方法，选择最具预测能力的特征。\n",
    "- **集成学习**：结合多个模型的预测结果，提升整体的预测性能。"
   ],
   "metadata": {
    "collapsed": false
   },
   "id": "fb6846b6ea62af0"
  },
  {
   "cell_type": "code",
   "outputs": [],
   "source": [],
   "metadata": {
    "collapsed": false
   },
   "id": "608c1f1a40354cf4"
  }
 ],
 "metadata": {
  "kernelspec": {
   "display_name": "Python 3",
   "language": "python",
   "name": "python3"
  },
  "language_info": {
   "codemirror_mode": {
    "name": "ipython",
    "version": 2
   },
   "file_extension": ".py",
   "mimetype": "text/x-python",
   "name": "python",
   "nbconvert_exporter": "python",
   "pygments_lexer": "ipython2",
   "version": "2.7.6"
  }
 },
 "nbformat": 4,
 "nbformat_minor": 5
}
