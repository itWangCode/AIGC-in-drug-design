{
 "cells": [
  {
   "cell_type": "markdown",
   "source": [
    "# Ligand-based screening-neural networks"
   ],
   "metadata": {
    "collapsed": false
   },
   "id": "d5d5ee442944ad15"
  },
  {
   "cell_type": "markdown",
   "source": [
    "## 目标 ¶\n",
    "\n",
    "近年来，机器学习和深度学习在药物研究中的应用在解决药物发现中的各种问题上显示出有希望的结果。在本讲义中，我们将熟悉神经网络的基础知识。我们将学习如何构建一个简单的两层神经网络，并在 ChEMBL 数据的一个子集上对其进行训练，以预测化合物对 VEGFR2（感兴趣的目标）的 pIC50 值。此外，我们从外部未标记的数据集中选择了三种化合物，这些化合物被预测对该激酶活性最高。"
   ],
   "metadata": {
    "collapsed": false
   },
   "id": "ef2c0be73b9a255f"
  },
  {
   "cell_type": "markdown",
   "source": [
    "### 内容在理论中 ¶\n",
    "\n",
    "-  生物背景\n",
    "  -  VEGFR2 激酶\n",
    "  - 复合活动指标\n",
    "  -  分子编码\n",
    "-  神经网络\n",
    "  - 什么是神经网络？\n",
    "  -  激活函数\n",
    "  -  损失函数\n",
    "- 训练神经网络\n",
    "-  Keras 工作流程\n",
    "- 神经网络的优势和应用\n",
    "\n",
    "###  内容在实用篇中\n",
    "\n",
    "-  数据准备\n",
    "-  定义神经网络\n",
    "-  训练模型\n",
    "- 评估与预测在测试集上\n",
    "  -  散点图\n",
    "- 预测外部/未标记数据\n",
    "  - 选择前 3 个化合物"
   ],
   "metadata": {
    "collapsed": false
   },
   "id": "43d4df90e7b5ff71"
  },
  {
   "cell_type": "markdown",
   "source": [
    "### 生物背景 ¶\n",
    "\n",
    "####  EGFR 激酶\n",
    "\n",
    "- VEGFR2 是一种存在于细胞膜上的跨膜蛋白/受体。它是 ErbB 受体家族的成员。\n",
    "- VEGFR2 在控制正常细胞生长、细胞凋亡和其他细胞功能中起着重要作用。\n",
    "- 它通过配体与其细胞外域结合而被激活，激活后 VEGFR2 从非活性单体形式转变为活性同源二聚体。\n",
    "- VEGFR2 受体在各种肿瘤或癌症中上调，因此 VEGFR2 抑制是一种可能阻止癌细胞生长的生物治疗方法。\n",
    "\n",
    "#### 复合活动测量指标\n",
    "\n",
    "- IC50 是药物的半数最大抑制浓度，表示需要多少药物才能将生物过程抑制一半。\n",
    "- pIC50 是 IC50 值的负对数。它比 IC50 值更容易理解，是衡量化合物活性的常用指标01。\n",
    "\n",
    "####  分子编码\n",
    "\n",
    "对于机器学习算法，分子需要转换为机器可读的格式，例如特征列表。在这个笔记本中，使用了分子指纹。\n",
    "\n",
    "分子指纹通过位串编码化学结构和分子特征，其中每个位置上的“1”代表特征的存在，“0”代表特征的缺失。常用的指纹之一是分子访问系统指纹（MACCS Keys），它是一种 166 位的结构键描述符，其中每个位都与一个 SMARTS 模式相关联，用于编码特定的亚结构（详见 Talktorial T004 以获取更多详细信息）。"
   ],
   "metadata": {
    "collapsed": false
   },
   "id": "6b3e8dc1f0ef18d0"
  },
  {
   "cell_type": "code",
   "outputs": [
    {
     "name": "stderr",
     "output_type": "stream",
     "text": [
      "2024-11-21 12:22:14.150796: I tensorflow/core/platform/cpu_feature_guard.cc:182] This TensorFlow binary is optimized to use available CPU instructions in performance-critical operations.\n",
      "To enable the following instructions: AVX2 FMA, in other operations, rebuild TensorFlow with the appropriate compiler flags.\n"
     ]
    }
   ],
   "source": [
    "from pathlib import Path\n",
    "from warnings import filterwarnings\n",
    "\n",
    "# Silence some expected warnings\n",
    "filterwarnings(\"ignore\")\n",
    "\n",
    "import pandas as pd\n",
    "import numpy as np\n",
    "from rdkit import Chem\n",
    "from rdkit.Chem import MACCSkeys, Draw, rdFingerprintGenerator\n",
    "from sklearn.model_selection import train_test_split\n",
    "import matplotlib.pyplot as plt\n",
    "from sklearn import metrics\n",
    "import seaborn as sns\n",
    "\n",
    "# Neural network specific libraries\n",
    "from tensorflow.keras.models import Sequential, load_model\n",
    "from tensorflow.keras.layers import Dense\n",
    "from tensorflow.keras.callbacks import ModelCheckpoint\n",
    "\n",
    "# 消除警告信息\n",
    "import warnings\n",
    "warnings.filterwarnings('ignore')\n",
    "\n",
    "\n",
    "\n",
    "#  防止中文乱码\n",
    "plt.rcParams['font.sans-serif'] = ['SimHei']\n",
    "plt.rcParams['axes.unicode_minus'] = False\n",
    "\n",
    "%matplotlib inline\n"
   ],
   "metadata": {
    "collapsed": false,
    "ExecuteTime": {
     "end_time": "2024-11-21T04:22:16.819918Z",
     "start_time": "2024-11-21T04:22:07.748490Z"
    }
   },
   "id": "efd384522f44b21e",
   "execution_count": 1
  },
  {
   "cell_type": "markdown",
   "source": [],
   "metadata": {
    "collapsed": false
   },
   "id": "44f8eedd8f41a9dd"
  },
  {
   "cell_type": "code",
   "outputs": [
    {
     "name": "stdout",
     "output_type": "stream",
     "text": [
      "/Users/wangyang/Desktop/AIGC-in-drug-design/04_Ligand-based screening-neural_networks/data\n"
     ]
    }
   ],
   "source": [
    "from pathlib import Path\n",
    "import os\n",
    "\n",
    "# 获取当前工作目录\n",
    "HERE = Path(os.getcwd())\n",
    "DATA = HERE / 'data'\n",
    "if not DATA.exists():\n",
    "    DATA.mkdir(parents=True, exist_ok=True)\n",
    "print(DATA)\n",
    "\n"
   ],
   "metadata": {
    "collapsed": false,
    "ExecuteTime": {
     "end_time": "2024-11-21T04:22:22.143938Z",
     "start_time": "2024-11-21T04:22:22.138470Z"
    }
   },
   "id": "f8eede9ce05fbf4",
   "execution_count": 2
  },
  {
   "cell_type": "code",
   "outputs": [],
   "source": [
    "# Load data\n",
    "df = pd.read_csv(HERE / '../01_Molecular_representation/data/bioactivities_compounds_VEGFR2.csv')\n",
    "df = df.reset_index(drop=True)"
   ],
   "metadata": {
    "collapsed": false,
    "ExecuteTime": {
     "end_time": "2024-11-21T04:22:46.736907Z",
     "start_time": "2024-11-21T04:22:46.730872Z"
    }
   },
   "id": "bab9c95bc095229",
   "execution_count": 4
  },
  {
   "cell_type": "code",
   "outputs": [
    {
     "name": "stdout",
     "output_type": "stream",
     "text": [
      "Shape of dataframe :  (200, 5)\n",
      "<class 'pandas.core.frame.DataFrame'>\n",
      "RangeIndex: 200 entries, 0 to 199\n",
      "Data columns (total 5 columns):\n",
      " #   Column              Non-Null Count  Dtype  \n",
      "---  ------              --------------  -----  \n",
      " 0   molecule_chembl_id  200 non-null    object \n",
      " 1   IC50                200 non-null    float64\n",
      " 2   units               200 non-null    object \n",
      " 3   smiles              200 non-null    object \n",
      " 4   pIC50               200 non-null    float64\n",
      "dtypes: float64(2), object(3)\n",
      "memory usage: 7.9+ KB\n"
     ]
    }
   ],
   "source": [
    "# Check the dimension and missing value of the data\n",
    "print(\"Shape of dataframe : \", df.shape)\n",
    "df.info()"
   ],
   "metadata": {
    "collapsed": false,
    "ExecuteTime": {
     "end_time": "2024-11-21T04:22:51.938911Z",
     "start_time": "2024-11-21T04:22:51.928946Z"
    }
   },
   "id": "a2d7af372f9c43f4",
   "execution_count": 5
  },
  {
   "cell_type": "code",
   "outputs": [
    {
     "data": {
      "text/plain": "  molecule_chembl_id   IC50 units  \\\n0      CHEMBL5189340  0.023    nM   \n1       CHEMBL429743  0.030    nM   \n2      CHEMBL5186748  0.120    nM   \n3      CHEMBL3093581  0.140    nM   \n4      CHEMBL3586072  0.140    nM   \n\n                                              smiles      pIC50  \n0  CN(C)c1ccc(/C=N/NC(=O)Cn2nc(Cc3ccc(Cl)cc3)c3cc...  10.638272  \n1  COc1cc2nccc(Oc3ccc4c(C(=O)Nc5ccc(Cl)cc5)cccc4c...  10.522879  \n2  CNC(=O)c1cc(Oc2ccc(NC(=O)c3nn(-c4ccc(Cl)cc4)cc...   9.920819  \n3  O=C(Nc1ccc(Oc2ccc3nc(NC(=O)C4CC4)cn3c2)c(F)c1)...   9.853872  \n4  CNC(=O)c1ccc(-c2ccc(NC(=O)Nc3cc(Br)cc(C(F)(F)F...   9.853872  ",
      "text/html": "<div>\n<style scoped>\n    .dataframe tbody tr th:only-of-type {\n        vertical-align: middle;\n    }\n\n    .dataframe tbody tr th {\n        vertical-align: top;\n    }\n\n    .dataframe thead th {\n        text-align: right;\n    }\n</style>\n<table border=\"1\" class=\"dataframe\">\n  <thead>\n    <tr style=\"text-align: right;\">\n      <th></th>\n      <th>molecule_chembl_id</th>\n      <th>IC50</th>\n      <th>units</th>\n      <th>smiles</th>\n      <th>pIC50</th>\n    </tr>\n  </thead>\n  <tbody>\n    <tr>\n      <th>0</th>\n      <td>CHEMBL5189340</td>\n      <td>0.023</td>\n      <td>nM</td>\n      <td>CN(C)c1ccc(/C=N/NC(=O)Cn2nc(Cc3ccc(Cl)cc3)c3cc...</td>\n      <td>10.638272</td>\n    </tr>\n    <tr>\n      <th>1</th>\n      <td>CHEMBL429743</td>\n      <td>0.030</td>\n      <td>nM</td>\n      <td>COc1cc2nccc(Oc3ccc4c(C(=O)Nc5ccc(Cl)cc5)cccc4c...</td>\n      <td>10.522879</td>\n    </tr>\n    <tr>\n      <th>2</th>\n      <td>CHEMBL5186748</td>\n      <td>0.120</td>\n      <td>nM</td>\n      <td>CNC(=O)c1cc(Oc2ccc(NC(=O)c3nn(-c4ccc(Cl)cc4)cc...</td>\n      <td>9.920819</td>\n    </tr>\n    <tr>\n      <th>3</th>\n      <td>CHEMBL3093581</td>\n      <td>0.140</td>\n      <td>nM</td>\n      <td>O=C(Nc1ccc(Oc2ccc3nc(NC(=O)C4CC4)cn3c2)c(F)c1)...</td>\n      <td>9.853872</td>\n    </tr>\n    <tr>\n      <th>4</th>\n      <td>CHEMBL3586072</td>\n      <td>0.140</td>\n      <td>nM</td>\n      <td>CNC(=O)c1ccc(-c2ccc(NC(=O)Nc3cc(Br)cc(C(F)(F)F...</td>\n      <td>9.853872</td>\n    </tr>\n  </tbody>\n</table>\n</div>"
     },
     "execution_count": 6,
     "metadata": {},
     "output_type": "execute_result"
    }
   ],
   "source": [
    "# Look at head\n",
    "df.head()\n",
    "# NBVAL_CHECK_OUTPUT"
   ],
   "metadata": {
    "collapsed": false,
    "ExecuteTime": {
     "end_time": "2024-11-21T04:22:58.931791Z",
     "start_time": "2024-11-21T04:22:58.920895Z"
    }
   },
   "id": "a6505840d054cb00",
   "execution_count": 6
  },
  {
   "cell_type": "code",
   "outputs": [
    {
     "data": {
      "text/plain": "                                              smiles      pIC50\n0  CN(C)c1ccc(/C=N/NC(=O)Cn2nc(Cc3ccc(Cl)cc3)c3cc...  10.638272\n1  COc1cc2nccc(Oc3ccc4c(C(=O)Nc5ccc(Cl)cc5)cccc4c...  10.522879\n2  CNC(=O)c1cc(Oc2ccc(NC(=O)c3nn(-c4ccc(Cl)cc4)cc...   9.920819\n3  O=C(Nc1ccc(Oc2ccc3nc(NC(=O)C4CC4)cn3c2)c(F)c1)...   9.853872\n4  CNC(=O)c1ccc(-c2ccc(NC(=O)Nc3cc(Br)cc(C(F)(F)F...   9.853872",
      "text/html": "<div>\n<style scoped>\n    .dataframe tbody tr th:only-of-type {\n        vertical-align: middle;\n    }\n\n    .dataframe tbody tr th {\n        vertical-align: top;\n    }\n\n    .dataframe thead th {\n        text-align: right;\n    }\n</style>\n<table border=\"1\" class=\"dataframe\">\n  <thead>\n    <tr style=\"text-align: right;\">\n      <th></th>\n      <th>smiles</th>\n      <th>pIC50</th>\n    </tr>\n  </thead>\n  <tbody>\n    <tr>\n      <th>0</th>\n      <td>CN(C)c1ccc(/C=N/NC(=O)Cn2nc(Cc3ccc(Cl)cc3)c3cc...</td>\n      <td>10.638272</td>\n    </tr>\n    <tr>\n      <th>1</th>\n      <td>COc1cc2nccc(Oc3ccc4c(C(=O)Nc5ccc(Cl)cc5)cccc4c...</td>\n      <td>10.522879</td>\n    </tr>\n    <tr>\n      <th>2</th>\n      <td>CNC(=O)c1cc(Oc2ccc(NC(=O)c3nn(-c4ccc(Cl)cc4)cc...</td>\n      <td>9.920819</td>\n    </tr>\n    <tr>\n      <th>3</th>\n      <td>O=C(Nc1ccc(Oc2ccc3nc(NC(=O)C4CC4)cn3c2)c(F)c1)...</td>\n      <td>9.853872</td>\n    </tr>\n    <tr>\n      <th>4</th>\n      <td>CNC(=O)c1ccc(-c2ccc(NC(=O)Nc3cc(Br)cc(C(F)(F)F...</td>\n      <td>9.853872</td>\n    </tr>\n  </tbody>\n</table>\n</div>"
     },
     "execution_count": 7,
     "metadata": {},
     "output_type": "execute_result"
    }
   ],
   "source": [
    "# Keep necessary columns\n",
    "chembl_df = df[[\"smiles\", \"pIC50\"]]\n",
    "chembl_df.head()"
   ],
   "metadata": {
    "collapsed": false,
    "ExecuteTime": {
     "end_time": "2024-11-21T04:23:10.819858Z",
     "start_time": "2024-11-21T04:23:10.810529Z"
    }
   },
   "id": "597f9e42c034c9d5",
   "execution_count": 7
  },
  {
   "cell_type": "markdown",
   "source": [
    "**分子编码**\n",
    "\n",
    "我们将 SMILES 字符串转换为数值数据以应用神经网络。我们将使用 MACCS 键来编码化合物。MACCS 键是一个 166 位的结构键描述符，其中每个位都与一个 SMARTS 模式相关联，用于编码特定的亚结构。\n",
    "\n",
    "MACCS 键的生成方法是：\n",
    "\n",
    "1. 首先，将化合物转换为 RDKit 格式。\n",
    "2. 然后，使用 RDKit 的 `GetMorganFingerprintAsBitVect` 函数生成 MACCS 键。\n",
    "3. 将 MACCS 键转换为 NumPy 数组。\n",
    "\n"
   ],
   "metadata": {
    "collapsed": false
   },
   "id": "feb8876ba3d3ba1c"
  },
  {
   "cell_type": "code",
   "outputs": [],
   "source": [
    "def smiles_to_fp(smiles, method=\"maccs\", n_bits=2048):\n",
    "    \"\"\"\n",
    "    Encode a molecule from a SMILES string into a fingerprint.\n",
    "\n",
    "    Parameters\n",
    "    ----------\n",
    "    smiles : str\n",
    "        The SMILES string defining the molecule.\n",
    "\n",
    "    method : str\n",
    "        The type of fingerprint to use. Default is MACCS keys.\n",
    "\n",
    "    n_bits : int\n",
    "        The length of the fingerprint.\n",
    "\n",
    "    Returns\n",
    "    -------\n",
    "    array\n",
    "        The fingerprint array.\n",
    "    \"\"\"\n",
    "\n",
    "    # Convert smiles to RDKit mol object\n",
    "    mol = Chem.MolFromSmiles(smiles)\n",
    "\n",
    "    if method == \"maccs\":\n",
    "        return np.array(MACCSkeys.GenMACCSKeys(mol))\n",
    "    if method == \"morgan2\":\n",
    "        fpg = rdFingerprintGenerator.GetMorganGenerator(radius=2, fpSize=n_bits)\n",
    "        return np.array(fpg.GetCountFingerprint(mol))\n",
    "    if method == \"morgan3\":\n",
    "        fpg = rdFingerprintGenerator.GetMorganGenerator(radius=3, fpSize=n_bits)\n",
    "        return np.array(fpg.GetCountFingerprint(mol))\n",
    "    else:\n",
    "        print(f\"Warning: Wrong method specified: {method}.\" \" Default will be used instead.\")\n",
    "        return np.array(MACCSkeys.GenMACCSKeys(mol))"
   ],
   "metadata": {
    "collapsed": false,
    "ExecuteTime": {
     "end_time": "2024-11-21T04:24:09.119496Z",
     "start_time": "2024-11-21T04:24:09.112960Z"
    }
   },
   "id": "9b8d80ef5633e67d",
   "execution_count": 8
  },
  {
   "cell_type": "markdown",
   "source": [
    "将所有 SMILES 字符串转换为 MACCS 指纹。"
   ],
   "metadata": {
    "collapsed": false
   },
   "id": "cc37baf2b73f6db4"
  },
  {
   "cell_type": "code",
   "outputs": [
    {
     "name": "stdout",
     "output_type": "stream",
     "text": [
      "Shape of dataframe: (200, 3)\n"
     ]
    },
    {
     "data": {
      "text/plain": "                                              smiles      pIC50  \\\n0  CN(C)c1ccc(/C=N/NC(=O)Cn2nc(Cc3ccc(Cl)cc3)c3cc...  10.638272   \n1  COc1cc2nccc(Oc3ccc4c(C(=O)Nc5ccc(Cl)cc5)cccc4c...  10.522879   \n2  CNC(=O)c1cc(Oc2ccc(NC(=O)c3nn(-c4ccc(Cl)cc4)cc...   9.920819   \n\n                                     fingerprints_df  \n0  [0, 0, 0, 0, 0, 0, 0, 0, 0, 0, 0, 0, 0, 0, 0, ...  \n1  [0, 0, 0, 0, 0, 0, 0, 0, 0, 0, 0, 0, 0, 0, 0, ...  \n2  [0, 0, 0, 0, 0, 0, 0, 0, 0, 0, 0, 0, 0, 0, 0, ...  ",
      "text/html": "<div>\n<style scoped>\n    .dataframe tbody tr th:only-of-type {\n        vertical-align: middle;\n    }\n\n    .dataframe tbody tr th {\n        vertical-align: top;\n    }\n\n    .dataframe thead th {\n        text-align: right;\n    }\n</style>\n<table border=\"1\" class=\"dataframe\">\n  <thead>\n    <tr style=\"text-align: right;\">\n      <th></th>\n      <th>smiles</th>\n      <th>pIC50</th>\n      <th>fingerprints_df</th>\n    </tr>\n  </thead>\n  <tbody>\n    <tr>\n      <th>0</th>\n      <td>CN(C)c1ccc(/C=N/NC(=O)Cn2nc(Cc3ccc(Cl)cc3)c3cc...</td>\n      <td>10.638272</td>\n      <td>[0, 0, 0, 0, 0, 0, 0, 0, 0, 0, 0, 0, 0, 0, 0, ...</td>\n    </tr>\n    <tr>\n      <th>1</th>\n      <td>COc1cc2nccc(Oc3ccc4c(C(=O)Nc5ccc(Cl)cc5)cccc4c...</td>\n      <td>10.522879</td>\n      <td>[0, 0, 0, 0, 0, 0, 0, 0, 0, 0, 0, 0, 0, 0, 0, ...</td>\n    </tr>\n    <tr>\n      <th>2</th>\n      <td>CNC(=O)c1cc(Oc2ccc(NC(=O)c3nn(-c4ccc(Cl)cc4)cc...</td>\n      <td>9.920819</td>\n      <td>[0, 0, 0, 0, 0, 0, 0, 0, 0, 0, 0, 0, 0, 0, 0, ...</td>\n    </tr>\n  </tbody>\n</table>\n</div>"
     },
     "execution_count": 10,
     "metadata": {},
     "output_type": "execute_result"
    }
   ],
   "source": [
    "chembl_df[\"fingerprints_df\"] = chembl_df[\"smiles\"].apply(smiles_to_fp)\n",
    "\n",
    "# Look at head\n",
    "print(\"Shape of dataframe:\", chembl_df.shape)\n",
    "chembl_df.head(3)\n",
    "# NBVAL_CHECK_OUTPUT"
   ],
   "metadata": {
    "collapsed": false,
    "ExecuteTime": {
     "end_time": "2024-11-21T04:24:33.480860Z",
     "start_time": "2024-11-21T04:24:32.779714Z"
    }
   },
   "id": "25f07d40ff36bf26",
   "execution_count": 10
  },
  {
   "cell_type": "markdown",
   "source": [
    "接下来，我们定义 x，特征，以及 y，用于训练模型的目标数据。在我们的案例中，特征是位向量，目标值是分子的 pIC50 值。\n",
    "\n",
    "我们使用 scikit-learn 库中的 train_test_split 将数据分为 70%的训练数据和 30%的测试数据。"
   ],
   "metadata": {
    "collapsed": false
   },
   "id": "d451a59080c6e511"
  },
  {
   "cell_type": "code",
   "outputs": [
    {
     "name": "stdout",
     "output_type": "stream",
     "text": [
      "Shape of training data: (140,)\n",
      "Shape of test data: (60,)\n"
     ]
    }
   ],
   "source": [
    "# Split the data into training and test set\n",
    "x_train, x_test, y_train, y_test = train_test_split(\n",
    "    chembl_df[\"fingerprints_df\"], chembl_df[[\"pIC50\"]], test_size=0.3, random_state=42\n",
    ")\n",
    "\n",
    "# Print the shape of training and testing data\n",
    "print(\"Shape of training data:\", x_train.shape)\n",
    "print(\"Shape of test data:\", x_test.shape)\n",
    "# NBVAL_CHECK_OUTPUT"
   ],
   "metadata": {
    "collapsed": false,
    "ExecuteTime": {
     "end_time": "2024-11-21T04:24:51.468883Z",
     "start_time": "2024-11-21T04:24:51.460185Z"
    }
   },
   "id": "817469e8d17a4fe0",
   "execution_count": 11
  },
  {
   "cell_type": "markdown",
   "source": [
    "### 定义神经网络 ¶\n",
    "\n",
    "A keras 模型通过指定隐藏层中的神经元数量和激活函数作为参数来定义。为了我们的目的，我们定义了一个具有两个隐藏层的模型。我们在隐藏层中使用 ReLU，在输出层上使用线性函数，因为目标是预测 pIC50 值。最后，我们使用均方误差作为损失参数和 adam 作为优化器来编译模型。"
   ],
   "metadata": {
    "collapsed": false
   },
   "id": "725a438bb626bd0a"
  },
  {
   "cell_type": "code",
   "outputs": [],
   "source": [
    "def neural_network_model(hidden1, hidden2):\n",
    "    \"\"\"\n",
    "    Creating a neural network from two hidden layers\n",
    "    using ReLU as activation function in the two hidden layers\n",
    "    and a linear activation in the output layer.\n",
    "\n",
    "    Parameters\n",
    "    ----------\n",
    "    hidden1 : int\n",
    "        Number of neurons in first hidden layer.\n",
    "\n",
    "    hidden2: int\n",
    "        Number of neurons in second hidden layer.\n",
    "\n",
    "    Returns\n",
    "    -------\n",
    "    model\n",
    "        Fully connected neural network model with two hidden layers.\n",
    "    \"\"\"\n",
    "\n",
    "    model = Sequential()\n",
    "    # First hidden layer\n",
    "    model.add(Dense(hidden1, activation=\"relu\", name=\"layer1\"))\n",
    "    # Second hidden layer\n",
    "    model.add(Dense(hidden2, activation=\"relu\", name=\"layer2\"))\n",
    "    # Output layer\n",
    "    model.add(Dense(1, activation=\"linear\", name=\"layer3\"))\n",
    "\n",
    "    # Compile model\n",
    "    model.compile(loss=\"mean_squared_error\", optimizer=\"adam\", metrics=[\"mse\", \"mae\"])\n",
    "    return model"
   ],
   "metadata": {
    "collapsed": false,
    "ExecuteTime": {
     "end_time": "2024-11-21T04:25:05.810700Z",
     "start_time": "2024-11-21T04:25:05.806305Z"
    }
   },
   "id": "b83d6c29af612734",
   "execution_count": 12
  },
  {
   "cell_type": "markdown",
   "source": [
    "###  训练模型 ¶\n",
    "\n",
    "我们尝试不同的迷你批量大小并绘制相应的损失图。"
   ],
   "metadata": {
    "collapsed": false
   },
   "id": "a005adc52061ed80"
  },
  {
   "cell_type": "code",
   "outputs": [],
   "source": [
    "# Neural network parameters\n",
    "batch_sizes = [16, 32, 64]\n",
    "nb_epoch = 50\n",
    "layer1_size = 64\n",
    "layer2_size = 32"
   ],
   "metadata": {
    "collapsed": false,
    "ExecuteTime": {
     "end_time": "2024-11-21T04:25:19.087738Z",
     "start_time": "2024-11-21T04:25:19.084456Z"
    }
   },
   "id": "6cbc1faeef09ea74",
   "execution_count": 13
  },
  {
   "cell_type": "code",
   "outputs": [
    {
     "data": {
      "text/plain": "<Figure size 1200x600 with 3 Axes>",
      "image/png": "[encoded data removed]"
     },
     "metadata": {},
     "output_type": "display_data"
    }
   ],
   "source": [
    "# Plot\n",
    "fig = plt.figure(figsize=(12, 6))\n",
    "sns.set(color_codes=True)\n",
    "for index, batch in enumerate(batch_sizes):\n",
    "    fig.add_subplot(1, len(batch_sizes), index + 1)\n",
    "    model = neural_network_model(layer1_size, layer2_size)\n",
    "\n",
    "    # Fit model on x_train, y_train data\n",
    "    history = model.fit(\n",
    "        np.array(list((x_train))).astype(float),\n",
    "        y_train.values,\n",
    "        batch_size=batch,\n",
    "        validation_data=(np.array(list((x_test))).astype(float), y_test.values),\n",
    "        verbose=0,\n",
    "        epochs=nb_epoch,\n",
    "    )\n",
    "    plt.plot(history.history[\"loss\"], label=\"train\")\n",
    "    plt.plot(history.history[\"val_loss\"], label=\"test\")\n",
    "    plt.legend([\"train\", \"test\"], loc=\"upper right\")\n",
    "    plt.ylabel(\"loss\")\n",
    "    plt.xlabel(\"epoch\")\n",
    "    plt.ylim((0, 15))\n",
    "    plt.title(\n",
    "        f\"test loss = {history.history['val_loss'][nb_epoch-1]:.2f}, \" f\"batch size = {batch}\"\n",
    "    )\n",
    "# 保存图片，dpi=300为图片分辨率\n",
    "plt.savefig(DATA / \"loss_plot.png\", dpi=300)\n",
    "plt.show()"
   ],
   "metadata": {
    "collapsed": false,
    "ExecuteTime": {
     "end_time": "2024-11-21T04:26:21.136806Z",
     "start_time": "2024-11-21T04:26:14.682549Z"
    }
   },
   "id": "302c4f991fcda3a5",
   "execution_count": 15
  },
  {
   "cell_type": "markdown",
   "source": [
    "从上面的损失图中可以看出，批量大小为 16 似乎能给出最佳性能。\n",
    "\n",
    "A ModelCheckpoint 回调用于在某个间隔内保存最佳模型/权重（在检查点文件中），以便模型/权重可以保存为当前状态或稍后加载以继续从保存的状态进行训练。\n",
    "\n",
    "现在，我们以 16 个批次的规模训练模型（因为如上图所示，它具有最低的测试损失），并将给出最佳性能的权重保存在文件 `best_weights.hdf5` 中。"
   ],
   "metadata": {
    "collapsed": false
   },
   "id": "c2f13af8f67cc50d"
  },
  {
   "cell_type": "code",
   "outputs": [
    {
     "data": {
      "text/plain": "<keras.src.callbacks.History at 0x7f9ce5fd1be0>"
     },
     "execution_count": 16,
     "metadata": {},
     "output_type": "execute_result"
    }
   ],
   "source": [
    "# Save the trained model\n",
    "filepath = DATA / \"best_weights.hdf5\"\n",
    "checkpoint = ModelCheckpoint(\n",
    "    str(filepath),\n",
    "    monitor=\"loss\",\n",
    "    verbose=0,\n",
    "    save_best_only=True,\n",
    "    mode=\"min\",\n",
    "    save_weights_only=True,\n",
    ")\n",
    "callbacks_list = [checkpoint]\n",
    "\n",
    "# Fit the model\n",
    "model.fit(\n",
    "    np.array(list((x_train))).astype(float),\n",
    "    y_train.values,\n",
    "    epochs=nb_epoch,\n",
    "    batch_size=16,\n",
    "    callbacks=callbacks_list,\n",
    "    verbose=0,\n",
    ")"
   ],
   "metadata": {
    "collapsed": false,
    "ExecuteTime": {
     "end_time": "2024-11-21T04:26:40.484344Z",
     "start_time": "2024-11-21T04:26:39.389832Z"
    }
   },
   "id": "9d8f4a211cacfbb9",
   "execution_count": 16
  },
  {
   "cell_type": "markdown",
   "source": [
    "### 评估与预测在测试集上\n",
    "\n",
    "评估()方法用于检查我们模型的性能。它报告损失（在我们的情况下是 mse）以及评估指标（mse 和 mae）。"
   ],
   "metadata": {
    "collapsed": false
   },
   "id": "3b5f29001296a19c"
  },
  {
   "cell_type": "code",
   "outputs": [
    {
     "name": "stdout",
     "output_type": "stream",
     "text": [
      "Evaluate the model on the test data\n",
      " loss: 0.14\n",
      " mse (same as loss): 0.14\n",
      " mae: 0.29\n"
     ]
    }
   ],
   "source": [
    "# Evalute the model\n",
    "print(f\"Evaluate the model on the test data\")\n",
    "scores = model.evaluate(np.array(list((x_test))), y_test.values, verbose=0)\n",
    "print(f\" loss: {scores[0]:.2f}\")\n",
    "print(f\" mse (same as loss): {scores[1]:.2f}\")\n",
    "print(f\" mae: {scores[2]:.2f}\")"
   ],
   "metadata": {
    "collapsed": false,
    "ExecuteTime": {
     "end_time": "2024-11-21T04:26:56.772168Z",
     "start_time": "2024-11-21T04:26:56.620831Z"
    }
   },
   "id": "81dfa7b6cfc727e9",
   "execution_count": 17
  },
  {
   "cell_type": "markdown",
   "source": [
    "测试集上的平均绝对误差如下 1.0 ，考虑到 pIC50 值的范围，这个误差相当低。\n",
    "\n",
    "我们现在预测测试数据中的 pIC50 值。"
   ],
   "metadata": {
    "collapsed": false
   },
   "id": "604a970e5e3f7a10"
  },
  {
   "cell_type": "code",
   "outputs": [
    {
     "name": "stdout",
     "output_type": "stream",
     "text": [
      "2/2 [==============================] - 0s 2ms/step\n",
      "9.11\n",
      "9.63\n",
      "9.66\n",
      "9.12\n",
      "9.35\n"
     ]
    }
   ],
   "source": [
    "# Predict pIC50 values on x_test data\n",
    "y_pred = model.predict(np.array(list((x_test))))\n",
    "\n",
    "# Print 5 first pIC50 predicted values\n",
    "first_5_prediction = [print(f\"{value[0]:.2f}\") for value in y_pred[0:5]]"
   ],
   "metadata": {
    "collapsed": false,
    "ExecuteTime": {
     "end_time": "2024-11-21T04:27:09.610167Z",
     "start_time": "2024-11-21T04:27:09.484137Z"
    }
   },
   "id": "90096ed511385ebc",
   "execution_count": 18
  },
  {
   "cell_type": "markdown",
   "source": [
    "#### 散点图 ¶\n",
    "\n",
    "为了可视化预测结果，我们在测试集上绘制预测值与真实 pIC50 值的关系图。"
   ],
   "metadata": {
    "collapsed": false
   },
   "id": "ee8fdb8a5f282664"
  },
  {
   "cell_type": "code",
   "outputs": [
    {
     "data": {
      "text/plain": "<Figure size 640x480 with 1 Axes>",
      "image/png": "[encoded data removed]"
     },
     "metadata": {},
     "output_type": "display_data"
    }
   ],
   "source": [
    "# Scatter plot\n",
    "limits = 0, 15\n",
    "fig, ax = plt.subplots()\n",
    "ax.scatter(y_pred, y_test, marker=\".\")\n",
    "lin = np.linspace(*limits, 100)\n",
    "ax.plot(lin, lin)\n",
    "ax.set_aspect(\"equal\", adjustable=\"box\")\n",
    "ax.set_xlabel(\"Predicted values\")\n",
    "ax.set_ylabel(\"True values\")\n",
    "ax.set_title(\"Scatter plot: pIC50 values\")\n",
    "ax.set_xlim(limits)\n",
    "ax.set_ylim(limits)\n",
    "# 保存图片，dpi=300为图片分辨率\n",
    "plt.savefig(DATA / \"scatter_plot.png\", dpi=300)\n",
    "plt.show()"
   ],
   "metadata": {
    "collapsed": false,
    "ExecuteTime": {
     "end_time": "2024-11-21T04:27:35.826940Z",
     "start_time": "2024-11-21T04:27:35.520889Z"
    }
   },
   "id": "89e4a7da76b3f362",
   "execution_count": 20
  },
  {
   "cell_type": "markdown",
   "source": [
    "如您所见，预测值与真实值之间存在正线性关系，但拟合程度远非完美。"
   ],
   "metadata": {
    "collapsed": false
   },
   "id": "ca09c14594162490"
  },
  {
   "cell_type": "markdown",
   "source": [
    "### 预测外部/未标记数据 ❤️❤️❤️\n",
    "\n",
    "我们使用训练好的神经网络预测来自 `test.csv` 文件的无标签化合物的 pIC50 值。"
   ],
   "metadata": {
    "collapsed": false
   },
   "id": "e401717afb8257b4"
  },
  {
   "cell_type": "code",
   "outputs": [
    {
     "ename": "FileNotFoundError",
     "evalue": "[Errno 2] No such file or directory: '/Users/wangyang/Desktop/AIGC-in-drug-design/04_Ligand-based screening-neural_networks/data/test.csv'",
     "output_type": "error",
     "traceback": [
      "\u001B[0;31m---------------------------------------------------------------------------\u001B[0m",
      "\u001B[0;31mFileNotFoundError\u001B[0m                         Traceback (most recent call last)",
      "Cell \u001B[0;32mIn[21], line 2\u001B[0m\n\u001B[1;32m      1\u001B[0m \u001B[38;5;66;03m# Load external/unlabeled data set,这个数据需要自己去生成的，一般生成新的数据拿来预测的\u001B[39;00m\n\u001B[0;32m----> 2\u001B[0m external_data \u001B[38;5;241m=\u001B[39m \u001B[43mpd\u001B[49m\u001B[38;5;241;43m.\u001B[39;49m\u001B[43mread_csv\u001B[49m\u001B[43m(\u001B[49m\u001B[43mDATA\u001B[49m\u001B[43m \u001B[49m\u001B[38;5;241;43m/\u001B[39;49m\u001B[43m \u001B[49m\u001B[38;5;124;43m\"\u001B[39;49m\u001B[38;5;124;43mtest.csv\u001B[39;49m\u001B[38;5;124;43m\"\u001B[39;49m\u001B[43m,\u001B[49m\u001B[43m \u001B[49m\u001B[43mindex_col\u001B[49m\u001B[38;5;241;43m=\u001B[39;49m\u001B[38;5;241;43m0\u001B[39;49m\u001B[43m)\u001B[49m\n\u001B[1;32m      3\u001B[0m external_data \u001B[38;5;241m=\u001B[39m external_data\u001B[38;5;241m.\u001B[39mreset_index(drop\u001B[38;5;241m=\u001B[39m\u001B[38;5;28;01mTrue\u001B[39;00m)\n\u001B[1;32m      4\u001B[0m external_data\u001B[38;5;241m.\u001B[39mhead()\n",
      "File \u001B[0;32m/opt/anaconda3/envs/teachopencadd/lib/python3.8/site-packages/pandas/util/_decorators.py:311\u001B[0m, in \u001B[0;36mdeprecate_nonkeyword_arguments.<locals>.decorate.<locals>.wrapper\u001B[0;34m(*args, **kwargs)\u001B[0m\n\u001B[1;32m    305\u001B[0m \u001B[38;5;28;01mif\u001B[39;00m \u001B[38;5;28mlen\u001B[39m(args) \u001B[38;5;241m>\u001B[39m num_allow_args:\n\u001B[1;32m    306\u001B[0m     warnings\u001B[38;5;241m.\u001B[39mwarn(\n\u001B[1;32m    307\u001B[0m         msg\u001B[38;5;241m.\u001B[39mformat(arguments\u001B[38;5;241m=\u001B[39marguments),\n\u001B[1;32m    308\u001B[0m         \u001B[38;5;167;01mFutureWarning\u001B[39;00m,\n\u001B[1;32m    309\u001B[0m         stacklevel\u001B[38;5;241m=\u001B[39mstacklevel,\n\u001B[1;32m    310\u001B[0m     )\n\u001B[0;32m--> 311\u001B[0m \u001B[38;5;28;01mreturn\u001B[39;00m \u001B[43mfunc\u001B[49m\u001B[43m(\u001B[49m\u001B[38;5;241;43m*\u001B[39;49m\u001B[43margs\u001B[49m\u001B[43m,\u001B[49m\u001B[43m \u001B[49m\u001B[38;5;241;43m*\u001B[39;49m\u001B[38;5;241;43m*\u001B[39;49m\u001B[43mkwargs\u001B[49m\u001B[43m)\u001B[49m\n",
      "File \u001B[0;32m/opt/anaconda3/envs/teachopencadd/lib/python3.8/site-packages/pandas/io/parsers/readers.py:678\u001B[0m, in \u001B[0;36mread_csv\u001B[0;34m(filepath_or_buffer, sep, delimiter, header, names, index_col, usecols, squeeze, prefix, mangle_dupe_cols, dtype, engine, converters, true_values, false_values, skipinitialspace, skiprows, skipfooter, nrows, na_values, keep_default_na, na_filter, verbose, skip_blank_lines, parse_dates, infer_datetime_format, keep_date_col, date_parser, dayfirst, cache_dates, iterator, chunksize, compression, thousands, decimal, lineterminator, quotechar, quoting, doublequote, escapechar, comment, encoding, encoding_errors, dialect, error_bad_lines, warn_bad_lines, on_bad_lines, delim_whitespace, low_memory, memory_map, float_precision, storage_options)\u001B[0m\n\u001B[1;32m    663\u001B[0m kwds_defaults \u001B[38;5;241m=\u001B[39m _refine_defaults_read(\n\u001B[1;32m    664\u001B[0m     dialect,\n\u001B[1;32m    665\u001B[0m     delimiter,\n\u001B[0;32m   (...)\u001B[0m\n\u001B[1;32m    674\u001B[0m     defaults\u001B[38;5;241m=\u001B[39m{\u001B[38;5;124m\"\u001B[39m\u001B[38;5;124mdelimiter\u001B[39m\u001B[38;5;124m\"\u001B[39m: \u001B[38;5;124m\"\u001B[39m\u001B[38;5;124m,\u001B[39m\u001B[38;5;124m\"\u001B[39m},\n\u001B[1;32m    675\u001B[0m )\n\u001B[1;32m    676\u001B[0m kwds\u001B[38;5;241m.\u001B[39mupdate(kwds_defaults)\n\u001B[0;32m--> 678\u001B[0m \u001B[38;5;28;01mreturn\u001B[39;00m \u001B[43m_read\u001B[49m\u001B[43m(\u001B[49m\u001B[43mfilepath_or_buffer\u001B[49m\u001B[43m,\u001B[49m\u001B[43m \u001B[49m\u001B[43mkwds\u001B[49m\u001B[43m)\u001B[49m\n",
      "File \u001B[0;32m/opt/anaconda3/envs/teachopencadd/lib/python3.8/site-packages/pandas/io/parsers/readers.py:575\u001B[0m, in \u001B[0;36m_read\u001B[0;34m(filepath_or_buffer, kwds)\u001B[0m\n\u001B[1;32m    572\u001B[0m _validate_names(kwds\u001B[38;5;241m.\u001B[39mget(\u001B[38;5;124m\"\u001B[39m\u001B[38;5;124mnames\u001B[39m\u001B[38;5;124m\"\u001B[39m, \u001B[38;5;28;01mNone\u001B[39;00m))\n\u001B[1;32m    574\u001B[0m \u001B[38;5;66;03m# Create the parser.\u001B[39;00m\n\u001B[0;32m--> 575\u001B[0m parser \u001B[38;5;241m=\u001B[39m \u001B[43mTextFileReader\u001B[49m\u001B[43m(\u001B[49m\u001B[43mfilepath_or_buffer\u001B[49m\u001B[43m,\u001B[49m\u001B[43m \u001B[49m\u001B[38;5;241;43m*\u001B[39;49m\u001B[38;5;241;43m*\u001B[39;49m\u001B[43mkwds\u001B[49m\u001B[43m)\u001B[49m\n\u001B[1;32m    577\u001B[0m \u001B[38;5;28;01mif\u001B[39;00m chunksize \u001B[38;5;129;01mor\u001B[39;00m iterator:\n\u001B[1;32m    578\u001B[0m     \u001B[38;5;28;01mreturn\u001B[39;00m parser\n",
      "File \u001B[0;32m/opt/anaconda3/envs/teachopencadd/lib/python3.8/site-packages/pandas/io/parsers/readers.py:932\u001B[0m, in \u001B[0;36mTextFileReader.__init__\u001B[0;34m(self, f, engine, **kwds)\u001B[0m\n\u001B[1;32m    929\u001B[0m     \u001B[38;5;28mself\u001B[39m\u001B[38;5;241m.\u001B[39moptions[\u001B[38;5;124m\"\u001B[39m\u001B[38;5;124mhas_index_names\u001B[39m\u001B[38;5;124m\"\u001B[39m] \u001B[38;5;241m=\u001B[39m kwds[\u001B[38;5;124m\"\u001B[39m\u001B[38;5;124mhas_index_names\u001B[39m\u001B[38;5;124m\"\u001B[39m]\n\u001B[1;32m    931\u001B[0m \u001B[38;5;28mself\u001B[39m\u001B[38;5;241m.\u001B[39mhandles: IOHandles \u001B[38;5;241m|\u001B[39m \u001B[38;5;28;01mNone\u001B[39;00m \u001B[38;5;241m=\u001B[39m \u001B[38;5;28;01mNone\u001B[39;00m\n\u001B[0;32m--> 932\u001B[0m \u001B[38;5;28mself\u001B[39m\u001B[38;5;241m.\u001B[39m_engine \u001B[38;5;241m=\u001B[39m \u001B[38;5;28;43mself\u001B[39;49m\u001B[38;5;241;43m.\u001B[39;49m\u001B[43m_make_engine\u001B[49m\u001B[43m(\u001B[49m\u001B[43mf\u001B[49m\u001B[43m,\u001B[49m\u001B[43m \u001B[49m\u001B[38;5;28;43mself\u001B[39;49m\u001B[38;5;241;43m.\u001B[39;49m\u001B[43mengine\u001B[49m\u001B[43m)\u001B[49m\n",
      "File \u001B[0;32m/opt/anaconda3/envs/teachopencadd/lib/python3.8/site-packages/pandas/io/parsers/readers.py:1216\u001B[0m, in \u001B[0;36mTextFileReader._make_engine\u001B[0;34m(self, f, engine)\u001B[0m\n\u001B[1;32m   1212\u001B[0m     mode \u001B[38;5;241m=\u001B[39m \u001B[38;5;124m\"\u001B[39m\u001B[38;5;124mrb\u001B[39m\u001B[38;5;124m\"\u001B[39m\n\u001B[1;32m   1213\u001B[0m \u001B[38;5;66;03m# error: No overload variant of \"get_handle\" matches argument types\u001B[39;00m\n\u001B[1;32m   1214\u001B[0m \u001B[38;5;66;03m# \"Union[str, PathLike[str], ReadCsvBuffer[bytes], ReadCsvBuffer[str]]\"\u001B[39;00m\n\u001B[1;32m   1215\u001B[0m \u001B[38;5;66;03m# , \"str\", \"bool\", \"Any\", \"Any\", \"Any\", \"Any\", \"Any\"\u001B[39;00m\n\u001B[0;32m-> 1216\u001B[0m \u001B[38;5;28mself\u001B[39m\u001B[38;5;241m.\u001B[39mhandles \u001B[38;5;241m=\u001B[39m \u001B[43mget_handle\u001B[49m\u001B[43m(\u001B[49m\u001B[43m  \u001B[49m\u001B[38;5;66;43;03m# type: ignore[call-overload]\u001B[39;49;00m\n\u001B[1;32m   1217\u001B[0m \u001B[43m    \u001B[49m\u001B[43mf\u001B[49m\u001B[43m,\u001B[49m\n\u001B[1;32m   1218\u001B[0m \u001B[43m    \u001B[49m\u001B[43mmode\u001B[49m\u001B[43m,\u001B[49m\n\u001B[1;32m   1219\u001B[0m \u001B[43m    \u001B[49m\u001B[43mencoding\u001B[49m\u001B[38;5;241;43m=\u001B[39;49m\u001B[38;5;28;43mself\u001B[39;49m\u001B[38;5;241;43m.\u001B[39;49m\u001B[43moptions\u001B[49m\u001B[38;5;241;43m.\u001B[39;49m\u001B[43mget\u001B[49m\u001B[43m(\u001B[49m\u001B[38;5;124;43m\"\u001B[39;49m\u001B[38;5;124;43mencoding\u001B[39;49m\u001B[38;5;124;43m\"\u001B[39;49m\u001B[43m,\u001B[49m\u001B[43m \u001B[49m\u001B[38;5;28;43;01mNone\u001B[39;49;00m\u001B[43m)\u001B[49m\u001B[43m,\u001B[49m\n\u001B[1;32m   1220\u001B[0m \u001B[43m    \u001B[49m\u001B[43mcompression\u001B[49m\u001B[38;5;241;43m=\u001B[39;49m\u001B[38;5;28;43mself\u001B[39;49m\u001B[38;5;241;43m.\u001B[39;49m\u001B[43moptions\u001B[49m\u001B[38;5;241;43m.\u001B[39;49m\u001B[43mget\u001B[49m\u001B[43m(\u001B[49m\u001B[38;5;124;43m\"\u001B[39;49m\u001B[38;5;124;43mcompression\u001B[39;49m\u001B[38;5;124;43m\"\u001B[39;49m\u001B[43m,\u001B[49m\u001B[43m \u001B[49m\u001B[38;5;28;43;01mNone\u001B[39;49;00m\u001B[43m)\u001B[49m\u001B[43m,\u001B[49m\n\u001B[1;32m   1221\u001B[0m \u001B[43m    \u001B[49m\u001B[43mmemory_map\u001B[49m\u001B[38;5;241;43m=\u001B[39;49m\u001B[38;5;28;43mself\u001B[39;49m\u001B[38;5;241;43m.\u001B[39;49m\u001B[43moptions\u001B[49m\u001B[38;5;241;43m.\u001B[39;49m\u001B[43mget\u001B[49m\u001B[43m(\u001B[49m\u001B[38;5;124;43m\"\u001B[39;49m\u001B[38;5;124;43mmemory_map\u001B[39;49m\u001B[38;5;124;43m\"\u001B[39;49m\u001B[43m,\u001B[49m\u001B[43m \u001B[49m\u001B[38;5;28;43;01mFalse\u001B[39;49;00m\u001B[43m)\u001B[49m\u001B[43m,\u001B[49m\n\u001B[1;32m   1222\u001B[0m \u001B[43m    \u001B[49m\u001B[43mis_text\u001B[49m\u001B[38;5;241;43m=\u001B[39;49m\u001B[43mis_text\u001B[49m\u001B[43m,\u001B[49m\n\u001B[1;32m   1223\u001B[0m \u001B[43m    \u001B[49m\u001B[43merrors\u001B[49m\u001B[38;5;241;43m=\u001B[39;49m\u001B[38;5;28;43mself\u001B[39;49m\u001B[38;5;241;43m.\u001B[39;49m\u001B[43moptions\u001B[49m\u001B[38;5;241;43m.\u001B[39;49m\u001B[43mget\u001B[49m\u001B[43m(\u001B[49m\u001B[38;5;124;43m\"\u001B[39;49m\u001B[38;5;124;43mencoding_errors\u001B[39;49m\u001B[38;5;124;43m\"\u001B[39;49m\u001B[43m,\u001B[49m\u001B[43m \u001B[49m\u001B[38;5;124;43m\"\u001B[39;49m\u001B[38;5;124;43mstrict\u001B[39;49m\u001B[38;5;124;43m\"\u001B[39;49m\u001B[43m)\u001B[49m\u001B[43m,\u001B[49m\n\u001B[1;32m   1224\u001B[0m \u001B[43m    \u001B[49m\u001B[43mstorage_options\u001B[49m\u001B[38;5;241;43m=\u001B[39;49m\u001B[38;5;28;43mself\u001B[39;49m\u001B[38;5;241;43m.\u001B[39;49m\u001B[43moptions\u001B[49m\u001B[38;5;241;43m.\u001B[39;49m\u001B[43mget\u001B[49m\u001B[43m(\u001B[49m\u001B[38;5;124;43m\"\u001B[39;49m\u001B[38;5;124;43mstorage_options\u001B[39;49m\u001B[38;5;124;43m\"\u001B[39;49m\u001B[43m,\u001B[49m\u001B[43m \u001B[49m\u001B[38;5;28;43;01mNone\u001B[39;49;00m\u001B[43m)\u001B[49m\u001B[43m,\u001B[49m\n\u001B[1;32m   1225\u001B[0m \u001B[43m\u001B[49m\u001B[43m)\u001B[49m\n\u001B[1;32m   1226\u001B[0m \u001B[38;5;28;01massert\u001B[39;00m \u001B[38;5;28mself\u001B[39m\u001B[38;5;241m.\u001B[39mhandles \u001B[38;5;129;01mis\u001B[39;00m \u001B[38;5;129;01mnot\u001B[39;00m \u001B[38;5;28;01mNone\u001B[39;00m\n\u001B[1;32m   1227\u001B[0m f \u001B[38;5;241m=\u001B[39m \u001B[38;5;28mself\u001B[39m\u001B[38;5;241m.\u001B[39mhandles\u001B[38;5;241m.\u001B[39mhandle\n",
      "File \u001B[0;32m/opt/anaconda3/envs/teachopencadd/lib/python3.8/site-packages/pandas/io/common.py:786\u001B[0m, in \u001B[0;36mget_handle\u001B[0;34m(path_or_buf, mode, encoding, compression, memory_map, is_text, errors, storage_options)\u001B[0m\n\u001B[1;32m    781\u001B[0m \u001B[38;5;28;01melif\u001B[39;00m \u001B[38;5;28misinstance\u001B[39m(handle, \u001B[38;5;28mstr\u001B[39m):\n\u001B[1;32m    782\u001B[0m     \u001B[38;5;66;03m# Check whether the filename is to be opened in binary mode.\u001B[39;00m\n\u001B[1;32m    783\u001B[0m     \u001B[38;5;66;03m# Binary mode does not support 'encoding' and 'newline'.\u001B[39;00m\n\u001B[1;32m    784\u001B[0m     \u001B[38;5;28;01mif\u001B[39;00m ioargs\u001B[38;5;241m.\u001B[39mencoding \u001B[38;5;129;01mand\u001B[39;00m \u001B[38;5;124m\"\u001B[39m\u001B[38;5;124mb\u001B[39m\u001B[38;5;124m\"\u001B[39m \u001B[38;5;129;01mnot\u001B[39;00m \u001B[38;5;129;01min\u001B[39;00m ioargs\u001B[38;5;241m.\u001B[39mmode:\n\u001B[1;32m    785\u001B[0m         \u001B[38;5;66;03m# Encoding\u001B[39;00m\n\u001B[0;32m--> 786\u001B[0m         handle \u001B[38;5;241m=\u001B[39m \u001B[38;5;28;43mopen\u001B[39;49m\u001B[43m(\u001B[49m\n\u001B[1;32m    787\u001B[0m \u001B[43m            \u001B[49m\u001B[43mhandle\u001B[49m\u001B[43m,\u001B[49m\n\u001B[1;32m    788\u001B[0m \u001B[43m            \u001B[49m\u001B[43mioargs\u001B[49m\u001B[38;5;241;43m.\u001B[39;49m\u001B[43mmode\u001B[49m\u001B[43m,\u001B[49m\n\u001B[1;32m    789\u001B[0m \u001B[43m            \u001B[49m\u001B[43mencoding\u001B[49m\u001B[38;5;241;43m=\u001B[39;49m\u001B[43mioargs\u001B[49m\u001B[38;5;241;43m.\u001B[39;49m\u001B[43mencoding\u001B[49m\u001B[43m,\u001B[49m\n\u001B[1;32m    790\u001B[0m \u001B[43m            \u001B[49m\u001B[43merrors\u001B[49m\u001B[38;5;241;43m=\u001B[39;49m\u001B[43merrors\u001B[49m\u001B[43m,\u001B[49m\n\u001B[1;32m    791\u001B[0m \u001B[43m            \u001B[49m\u001B[43mnewline\u001B[49m\u001B[38;5;241;43m=\u001B[39;49m\u001B[38;5;124;43m\"\u001B[39;49m\u001B[38;5;124;43m\"\u001B[39;49m\u001B[43m,\u001B[49m\n\u001B[1;32m    792\u001B[0m \u001B[43m        \u001B[49m\u001B[43m)\u001B[49m\n\u001B[1;32m    793\u001B[0m     \u001B[38;5;28;01melse\u001B[39;00m:\n\u001B[1;32m    794\u001B[0m         \u001B[38;5;66;03m# Binary mode\u001B[39;00m\n\u001B[1;32m    795\u001B[0m         handle \u001B[38;5;241m=\u001B[39m \u001B[38;5;28mopen\u001B[39m(handle, ioargs\u001B[38;5;241m.\u001B[39mmode)\n",
      "\u001B[0;31mFileNotFoundError\u001B[0m: [Errno 2] No such file or directory: '/Users/wangyang/Desktop/AIGC-in-drug-design/04_Ligand-based screening-neural_networks/data/test.csv'"
     ]
    }
   ],
   "source": [
    "# Load external/unlabeled data set,这个数据需要自己去生成的，一般生成新的数据拿来预测的❤️，需要自己加载进去的\n",
    "external_data = pd.read_csv(DATA / \"test.csv\", index_col=0)\n",
    "external_data = external_data.reset_index(drop=True)\n",
    "external_data.head()"
   ],
   "metadata": {
    "collapsed": false,
    "ExecuteTime": {
     "end_time": "2024-11-21T04:29:11.314682Z",
     "start_time": "2024-11-21T04:29:11.075122Z"
    }
   },
   "id": "9ce1d7dc8a066764",
   "execution_count": 21
  },
  {
   "cell_type": "markdown",
   "source": [
    "我们使用相同的 smiles_to_fp 函数，将 SMILES 字符串转换为 MACCS 指纹。\n",
    "\n"
   ],
   "metadata": {
    "collapsed": false
   },
   "id": "b3c7934eac1102eb"
  },
  {
   "cell_type": "code",
   "outputs": [],
   "source": [
    "# Convert SMILES strings to MACCS fingerprints\n",
    "external_data[\"fingerprints_df\"] = external_data[\"smiles\"].apply(smiles_to_fp)\n",
    "\n",
    "# Look at head\n",
    "print(\"Shape of dataframe : \", external_data.shape)\n",
    "external_data.head(3)"
   ],
   "metadata": {
    "collapsed": false
   },
   "id": "d84f8d7481dd97a8"
  },
  {
   "cell_type": "markdown",
   "source": [
    "注意：为确保结果的可重复性，我们将一个模型保存为 `ANN_model.hdf5` ，其结构与上述相同。尽管模型相同，但由于随机梯度算法中的随机性，从一次模拟到另一次模拟保存的权重可能不同。我们使用 load_model()函数加载 ANN 模型权重。"
   ],
   "metadata": {
    "collapsed": false
   },
   "id": "7863099c45ea2496"
  },
  {
   "cell_type": "markdown",
   "source": [],
   "metadata": {
    "collapsed": false
   },
   "id": "2777001561c49981"
  },
  {
   "cell_type": "code",
   "outputs": [],
   "source": [
    "# Load model\n",
    "model = load_model(DATA / \"ANN_model.hdf5\", compile=False)"
   ],
   "metadata": {
    "collapsed": false
   },
   "id": "127d83006fde36d5"
  },
  {
   "cell_type": "markdown",
   "source": [],
   "metadata": {
    "collapsed": false
   },
   "id": "f80b37593a79b93a"
  },
  {
   "cell_type": "code",
   "outputs": [],
   "source": [
    "# Prediction on external/unlabeled data\n",
    "predictions = model.predict(\n",
    "    np.array(list((external_data[\"fingerprints_df\"]))).astype(float), callbacks=callbacks_list\n",
    ")\n",
    "\n",
    "predicted_pIC50 = pd.DataFrame(predictions, columns=[\"predicted_pIC50\"])\n",
    "predicted_pIC50_df = external_data.join(predicted_pIC50)\n",
    "\n",
    "predicted_pIC50_df.head(3)"
   ],
   "metadata": {
    "collapsed": false
   },
   "id": "b694e0a80b1ca667"
  },
  {
   "cell_type": "code",
   "outputs": [],
   "source": [
    "# Save the predicted values in a csv file in the data folder\n",
    "predicted_pIC50_df.to_csv(DATA / \"predicted_pIC50_df.csv\")"
   ],
   "metadata": {
    "collapsed": false
   },
   "id": "bfdc867f6740dc1d"
  },
  {
   "cell_type": "markdown",
   "source": [
    "#### 选择前 3 个化合物 ¶\n",
    "\n",
    "我们选择预测 pIC50 值最高的 3 个化合物，这些化合物可以作为潜在的 VEGRF2 抑制剂进一步研究。"
   ],
   "metadata": {
    "collapsed": false
   },
   "id": "97342fd68c93ddc2"
  },
  {
   "cell_type": "code",
   "outputs": [],
   "source": [
    "# Select top 3 drugs\n",
    "predicted_pIC50_df = pd.read_csv(DATA / \"predicted_pIC50_df.csv\", index_col=0)\n",
    "top3_drug = predicted_pIC50_df.nlargest(3, \"predicted_pIC50\")\n",
    "top3_drug"
   ],
   "metadata": {
    "collapsed": false
   },
   "id": "553d16171601ae36"
  },
  {
   "cell_type": "markdown",
   "source": [],
   "metadata": {
    "collapsed": false
   },
   "id": "361e6e4964a55e0d"
  },
  {
   "cell_type": "code",
   "outputs": [],
   "source": [
    "# Draw the drug molecules\n",
    "highest_pIC50 = predicted_pIC50_df[\"canonical_smiles\"][top3_drug.index]\n",
    "\n",
    "mols_EGFR = [Chem.MolFromSmiles(smile) for smile in highest_pIC50]\n",
    "pIC50_EGFR = top3_drug[\"predicted_pIC50\"].tolist()\n",
    "pIC50_values = [(f\"pIC50 value: {value:.2f}\") for value in pIC50_EGFR]\n",
    "\n",
    "Draw.MolsToGridImage(mols_EGFR, molsPerRow=3, subImgSize=(450, 300), legends=pIC50_values)\n",
    "# 保存图片，dpi=300为图片分辨率\n",
    "plt.savefig(DATA / \"top3_drugs.png\", dpi=300)\n",
    "plt.show()"
   ],
   "metadata": {
    "collapsed": false
   },
   "id": "da5883c1ad7deb3c"
  },
  {
   "cell_type": "markdown",
   "source": [],
   "metadata": {
    "collapsed": false
   },
   "id": "537b5561ac8ab3e4"
  }
 ],
 "metadata": {
  "kernelspec": {
   "display_name": "Python 3",
   "language": "python",
   "name": "python3"
  },
  "language_info": {
   "codemirror_mode": {
    "name": "ipython",
    "version": 2
   },
   "file_extension": ".py",
   "mimetype": "text/x-python",
   "name": "python",
   "nbconvert_exporter": "python",
   "pygments_lexer": "ipython2",
   "version": "2.7.6"
  }
 },
 "nbformat": 4,
 "nbformat_minor": 5
}
