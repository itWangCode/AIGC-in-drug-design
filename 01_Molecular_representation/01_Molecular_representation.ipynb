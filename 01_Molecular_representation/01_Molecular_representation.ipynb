{
 "cells": [
  {
   "cell_type": "markdown",
   "source": [
    "# 首先声明一下，学习AIGC药物之前，请您需要先学习AIDD药物的知识，因为AIGC药物的分子表示方法与AIDD药物有很大不同。"
   ],
   "metadata": {
    "collapsed": false
   },
   "id": "68e63d60a85f2e17"
  },
  {
   "cell_type": "markdown",
   "source": [
    "# AIGC在药物设计中的应用：分子表示与机器学习模型\n",
    "\n",
    "## 主要内容\n",
    "- 1. 导入必要的库\n",
    "- 2. 加载数据\n",
    "- 3. 数据预处理\n",
    "    - 3.1 转换SMILES为RDKit分子对象\n",
    "    - 3.2 生成活性标签\n",
    "    - 3.3 数据集划分\n",
    "- 4. 分子表示生成\n",
    "    - 4.1 分子指纹（Molecular Fingerprints）\n",
    "    - 4.2 机器学习模型\n",
    "        - 4.2.1 随机森林\n",
    "        - 4.2.2 支持向量机\n",
    "        - 4.2.3 卷积神经网络（CNN）\n",
    "- 5. 模型评估\n",
    "    - 5.1 训练集上的性能\n",
    "    - 5.2 测试集上的性能\n",
    "    - 5.3 绘制ROC曲线\n",
    "- 6. 总结与展望\n",
    "\n",
    "## 准备工作\n",
    "- 1. 安装Anaconda\n",
    "- 2. 安装RDKit\n",
    "- 3. 安装PyTorch\n",
    "- 4. 安装相关库\n",
    "\n",
    "## 注意事项\n",
    "- 1. 该教程基于Python3.9，Anaconda3，RDKit2020.03，PyTorch-GPU版本的。\n",
    "- 2. 该教程基于`AIDD`数据集，该数据集包含了大量的AIDD药物的SMILES字符串和活性数据。\n",
    "- 3. 该教程基于AIDD药物的活性数据，但也可以应用于AIGC药物的活性数据。\n",
    "- 4. 该教程基于AIDD药物的SMILES字符串，但也可以应用于AIGC药物的SMILES字符串。\n",
    "- 5. 该教程基于AIDD药物的分子表示生成，但也可以应用于AIGC药物的分子表示生成。\n",
    "\n",
    "    "
   ],
   "metadata": {
    "collapsed": false
   },
   "id": "ea50b943d52c8189"
  },
  {
   "cell_type": "markdown",
   "source": [
    "## 1. 导入必要的库"
   ],
   "metadata": {
    "collapsed": false
   },
   "id": "c325a8827066565e"
  },
  {
   "cell_type": "markdown",
   "source": [
    "- **Jupyter Notebook** 用于演示如何通过`chembl.csv`中的SMILES生成分子表示，并应用多种机器学习模型进行药物活性预测。\n"
   ],
   "metadata": {
    "collapsed": false
   },
   "id": "d85690a03199c0f8"
  },
  {
   "cell_type": "code",
   "outputs": [
    {
     "name": "stdout",
     "output_type": "stream",
     "text": [
      "Using CPU\n"
     ]
    }
   ],
   "source": [
    "# 检测是否安装了GPU\n",
    "import torch\n",
    "if torch.cuda.is_available():\n",
    "    print('Using GPU')\n",
    "else:\n",
    "    print('Using CPU')"
   ],
   "metadata": {
    "collapsed": false,
    "ExecuteTime": {
     "end_time": "2024-11-20T16:45:52.828695Z",
     "start_time": "2024-11-20T16:45:51.138280Z"
    }
   },
   "id": "8dcf5cad995f6a4a",
   "execution_count": 1
  },
  {
   "cell_type": "code",
   "execution_count": 2,
   "id": "initial_id",
   "metadata": {
    "collapsed": true,
    "ExecuteTime": {
     "end_time": "2024-11-20T16:45:53.526983Z",
     "start_time": "2024-11-20T16:45:52.830178Z"
    }
   },
   "outputs": [
    {
     "data": {
      "text/plain": "<torch._C.Generator at 0x7fb136f7cbf0>"
     },
     "execution_count": 2,
     "metadata": {},
     "output_type": "execute_result"
    }
   ],
   "source": [
    "# 首先，我们需要导入所需的Python库。这些库包括数据处理、分子表示生成、机器学习模型以及可视化工具。\n",
    "import pandas as pd # 数据处理\n",
    "import numpy as np # 数值计算\n",
    "import os # 文件和目录操作\n",
    "import matplotlib.pyplot as plt # 可视化工具\n",
    "import seaborn as sns # 可视化工具\n",
    "\n",
    "from rdkit import Chem # 分子表示生成\n",
    "from rdkit.Chem import AllChem, Descriptors # 分子表示生成\n",
    "\n",
    "from sklearn.model_selection import train_test_split # 数据集划分\n",
    "from sklearn.preprocessing import StandardScaler # 数据标准化\n",
    "from sklearn.decomposition import PCA # 主成分分析\n",
    "from sklearn.ensemble import RandomForestClassifier # 随机森林\n",
    "from sklearn.svm import SVC # 支持向量机\n",
    "from sklearn.metrics import roc_curve, auc, confusion_matrix, classification_report # 评价指标\n",
    "\n",
    "import torch\n",
    "import torch.nn as nn\n",
    "import torch.optim as optim\n",
    "from torch.utils.data import Dataset, DataLoader\n",
    "\n",
    "# For CNN on SMILES sequences\n",
    "from sklearn.feature_extraction.text import CountVectorizer\n",
    "from sklearn.pipeline import make_pipeline\n",
    "\n",
    "# Set random seed for reproducibility\n",
    "RANDOM_STATE = 42\n",
    "np.random.seed(RANDOM_STATE)\n",
    "torch.manual_seed(RANDOM_STATE)"
   ]
  },
  {
   "cell_type": "code",
   "outputs": [
    {
     "name": "stdout",
     "output_type": "stream",
     "text": [
      "/Users/wangyang/Desktop/AIGC-in-drug-design/01_Molecular_representation/data\n"
     ]
    }
   ],
   "source": [
    "from pathlib import Path\n",
    "import os\n",
    "\n",
    "# 获取当前工作目录\n",
    "HERE = Path(os.getcwd())\n",
    "DATA = HERE / 'data'\n",
    "if not DATA.exists():\n",
    "    DATA.mkdir(parents=True, exist_ok=True)\n",
    "print(DATA)"
   ],
   "metadata": {
    "collapsed": false,
    "ExecuteTime": {
     "end_time": "2024-11-20T16:45:53.533190Z",
     "start_time": "2024-11-20T16:45:53.529907Z"
    }
   },
   "id": "e416234c6360ccbb",
   "execution_count": 3
  },
  {
   "cell_type": "markdown",
   "source": [
    "## 2. 加载数据"
   ],
   "metadata": {
    "collapsed": false
   },
   "id": "4d9c4f848b433a01"
  },
  {
   "cell_type": "code",
   "outputs": [
    {
     "data": {
      "text/plain": "  molecule_chembl_id   IC50 units  \\\n0      CHEMBL5189340  0.023    nM   \n1       CHEMBL429743  0.030    nM   \n2      CHEMBL5186748  0.120    nM   \n3      CHEMBL3093581  0.140    nM   \n4      CHEMBL3586072  0.140    nM   \n\n                                              smiles      pIC50  \n0  CN(C)c1ccc(/C=N/NC(=O)Cn2nc(Cc3ccc(Cl)cc3)c3cc...  10.638272  \n1  COc1cc2nccc(Oc3ccc4c(C(=O)Nc5ccc(Cl)cc5)cccc4c...  10.522879  \n2  CNC(=O)c1cc(Oc2ccc(NC(=O)c3nn(-c4ccc(Cl)cc4)cc...   9.920819  \n3  O=C(Nc1ccc(Oc2ccc3nc(NC(=O)C4CC4)cn3c2)c(F)c1)...   9.853872  \n4  CNC(=O)c1ccc(-c2ccc(NC(=O)Nc3cc(Br)cc(C(F)(F)F...   9.853872  ",
      "text/html": "<div>\n<style scoped>\n    .dataframe tbody tr th:only-of-type {\n        vertical-align: middle;\n    }\n\n    .dataframe tbody tr th {\n        vertical-align: top;\n    }\n\n    .dataframe thead th {\n        text-align: right;\n    }\n</style>\n<table border=\"1\" class=\"dataframe\">\n  <thead>\n    <tr style=\"text-align: right;\">\n      <th></th>\n      <th>molecule_chembl_id</th>\n      <th>IC50</th>\n      <th>units</th>\n      <th>smiles</th>\n      <th>pIC50</th>\n    </tr>\n  </thead>\n  <tbody>\n    <tr>\n      <th>0</th>\n      <td>CHEMBL5189340</td>\n      <td>0.023</td>\n      <td>nM</td>\n      <td>CN(C)c1ccc(/C=N/NC(=O)Cn2nc(Cc3ccc(Cl)cc3)c3cc...</td>\n      <td>10.638272</td>\n    </tr>\n    <tr>\n      <th>1</th>\n      <td>CHEMBL429743</td>\n      <td>0.030</td>\n      <td>nM</td>\n      <td>COc1cc2nccc(Oc3ccc4c(C(=O)Nc5ccc(Cl)cc5)cccc4c...</td>\n      <td>10.522879</td>\n    </tr>\n    <tr>\n      <th>2</th>\n      <td>CHEMBL5186748</td>\n      <td>0.120</td>\n      <td>nM</td>\n      <td>CNC(=O)c1cc(Oc2ccc(NC(=O)c3nn(-c4ccc(Cl)cc4)cc...</td>\n      <td>9.920819</td>\n    </tr>\n    <tr>\n      <th>3</th>\n      <td>CHEMBL3093581</td>\n      <td>0.140</td>\n      <td>nM</td>\n      <td>O=C(Nc1ccc(Oc2ccc3nc(NC(=O)C4CC4)cn3c2)c(F)c1)...</td>\n      <td>9.853872</td>\n    </tr>\n    <tr>\n      <th>4</th>\n      <td>CHEMBL3586072</td>\n      <td>0.140</td>\n      <td>nM</td>\n      <td>CNC(=O)c1ccc(-c2ccc(NC(=O)Nc3cc(Br)cc(C(F)(F)F...</td>\n      <td>9.853872</td>\n    </tr>\n  </tbody>\n</table>\n</div>"
     },
     "execution_count": 4,
     "metadata": {},
     "output_type": "execute_result"
    }
   ],
   "source": [
    "# 定义数据路径\n",
    "data_path = DATA / 'bioactivities_compounds_VEGFR2.csv'\n",
    "\n",
    "# 加载数据\n",
    "df = pd.read_csv(data_path)\n",
    "\n",
    "# 显示数据的前几行\n",
    "df.head()"
   ],
   "metadata": {
    "collapsed": false,
    "ExecuteTime": {
     "end_time": "2024-11-20T16:45:53.550422Z",
     "start_time": "2024-11-20T16:45:53.535338Z"
    }
   },
   "id": "558bc0e061df8db4",
   "execution_count": 4
  },
  {
   "cell_type": "markdown",
   "source": [
    "## 3. 数据预处理\n",
    "### 3.1 转换SMILES为RDKit分子对象\n",
    "- 我们需要将SMILES字符串转换为RDKit分子对象，以便生成分子表示。"
   ],
   "metadata": {
    "collapsed": false
   },
   "id": "fdcab86a28b6eb84"
  },
  {
   "cell_type": "code",
   "outputs": [
    {
     "name": "stdout",
     "output_type": "stream",
     "text": [
      "有效分子数量: 200\n"
     ]
    }
   ],
   "source": [
    "# 转换SMILES为RDKit分子对象\n",
    "df['mol'] = df['smiles'].apply(lambda x: Chem.MolFromSmiles(x))\n",
    "\n",
    "# 移除无效的SMILES\n",
    "df = df[df['mol'].notnull()].reset_index(drop=True)\n",
    "\n",
    "print(f\"有效分子数量: {len(df)}\")\n"
   ],
   "metadata": {
    "collapsed": false,
    "ExecuteTime": {
     "end_time": "2024-11-20T16:45:53.603941Z",
     "start_time": "2024-11-20T16:45:53.551904Z"
    }
   },
   "id": "53d4ff9a2da220d5",
   "execution_count": 5
  },
  {
   "cell_type": "markdown",
   "source": [
    "### 3.2 生成活性标签\n",
    "- 如果数据集中存在pic50列，我们将基于该列生成二分类标签：pIC50 >= 6.3为活性阳性（1），否则为阴性（0）。如果没有pic50列，则进行随机划分。"
   ],
   "metadata": {
    "collapsed": false
   },
   "id": "af07f066a85d83fc"
  },
  {
   "cell_type": "code",
   "outputs": [
    {
     "name": "stdout",
     "output_type": "stream",
     "text": [
      "使用 pic50 划分活性标签\n"
     ]
    }
   ],
   "source": [
    "# 检查是否存在pic50列\n",
    "if 'pIC50' in df.columns:\n",
    "    # 生成二分类标签，❤️这里我做 实验 ，估计减少了数据，采用的8.8作为阈值，可以自己调整\n",
    "    df['active'] = df['pIC50'].apply(lambda x: 1 if x >= 8.9 else 0)\n",
    "    print(\"使用 pic50 划分活性标签\")\n",
    "else:\n",
    "    # 如果没有pic50列，创建一个随机标签\n",
    "    df['active'] = np.random.randint(0, 2, size=len(df))\n",
    "    print(\"没有 pic50 列，使用随机标签\")\n"
   ],
   "metadata": {
    "collapsed": false,
    "ExecuteTime": {
     "end_time": "2024-11-20T16:45:53.609959Z",
     "start_time": "2024-11-20T16:45:53.605432Z"
    }
   },
   "id": "d572b4a12e13b953",
   "execution_count": 6
  },
  {
   "cell_type": "markdown",
   "source": [
    "### 3.3 数据集划分\n",
    "- 根据是否存在pic50列，选择不同的划分方式。\n"
   ],
   "metadata": {
    "collapsed": false
   },
   "id": "fdce763e5cfe96e6"
  },
  {
   "cell_type": "code",
   "outputs": [
    {
     "data": {
      "text/plain": "  molecule_chembl_id   IC50 units  \\\n0      CHEMBL5189340  0.023    nM   \n1       CHEMBL429743  0.030    nM   \n2      CHEMBL5186748  0.120    nM   \n3      CHEMBL3093581  0.140    nM   \n4      CHEMBL3586072  0.140    nM   \n\n                                              smiles      pIC50  \\\n0  CN(C)c1ccc(/C=N/NC(=O)Cn2nc(Cc3ccc(Cl)cc3)c3cc...  10.638272   \n1  COc1cc2nccc(Oc3ccc4c(C(=O)Nc5ccc(Cl)cc5)cccc4c...  10.522879   \n2  CNC(=O)c1cc(Oc2ccc(NC(=O)c3nn(-c4ccc(Cl)cc4)cc...   9.920819   \n3  O=C(Nc1ccc(Oc2ccc3nc(NC(=O)C4CC4)cn3c2)c(F)c1)...   9.853872   \n4  CNC(=O)c1ccc(-c2ccc(NC(=O)Nc3cc(Br)cc(C(F)(F)F...   9.853872   \n\n                                                mol  active  \n0  <rdkit.Chem.rdchem.Mol object at 0x7fb11b05d3c0>       1  \n1  <rdkit.Chem.rdchem.Mol object at 0x7fb11b05d120>       1  \n2  <rdkit.Chem.rdchem.Mol object at 0x7fb11b05d4a0>       1  \n3  <rdkit.Chem.rdchem.Mol object at 0x7fb11b05d510>       1  \n4  <rdkit.Chem.rdchem.Mol object at 0x7fb11b05d580>       1  ",
      "text/html": "<div>\n<style scoped>\n    .dataframe tbody tr th:only-of-type {\n        vertical-align: middle;\n    }\n\n    .dataframe tbody tr th {\n        vertical-align: top;\n    }\n\n    .dataframe thead th {\n        text-align: right;\n    }\n</style>\n<table border=\"1\" class=\"dataframe\">\n  <thead>\n    <tr style=\"text-align: right;\">\n      <th></th>\n      <th>molecule_chembl_id</th>\n      <th>IC50</th>\n      <th>units</th>\n      <th>smiles</th>\n      <th>pIC50</th>\n      <th>mol</th>\n      <th>active</th>\n    </tr>\n  </thead>\n  <tbody>\n    <tr>\n      <th>0</th>\n      <td>CHEMBL5189340</td>\n      <td>0.023</td>\n      <td>nM</td>\n      <td>CN(C)c1ccc(/C=N/NC(=O)Cn2nc(Cc3ccc(Cl)cc3)c3cc...</td>\n      <td>10.638272</td>\n      <td>&lt;rdkit.Chem.rdchem.Mol object at 0x7fb11b05d3c0&gt;</td>\n      <td>1</td>\n    </tr>\n    <tr>\n      <th>1</th>\n      <td>CHEMBL429743</td>\n      <td>0.030</td>\n      <td>nM</td>\n      <td>COc1cc2nccc(Oc3ccc4c(C(=O)Nc5ccc(Cl)cc5)cccc4c...</td>\n      <td>10.522879</td>\n      <td>&lt;rdkit.Chem.rdchem.Mol object at 0x7fb11b05d120&gt;</td>\n      <td>1</td>\n    </tr>\n    <tr>\n      <th>2</th>\n      <td>CHEMBL5186748</td>\n      <td>0.120</td>\n      <td>nM</td>\n      <td>CNC(=O)c1cc(Oc2ccc(NC(=O)c3nn(-c4ccc(Cl)cc4)cc...</td>\n      <td>9.920819</td>\n      <td>&lt;rdkit.Chem.rdchem.Mol object at 0x7fb11b05d4a0&gt;</td>\n      <td>1</td>\n    </tr>\n    <tr>\n      <th>3</th>\n      <td>CHEMBL3093581</td>\n      <td>0.140</td>\n      <td>nM</td>\n      <td>O=C(Nc1ccc(Oc2ccc3nc(NC(=O)C4CC4)cn3c2)c(F)c1)...</td>\n      <td>9.853872</td>\n      <td>&lt;rdkit.Chem.rdchem.Mol object at 0x7fb11b05d510&gt;</td>\n      <td>1</td>\n    </tr>\n    <tr>\n      <th>4</th>\n      <td>CHEMBL3586072</td>\n      <td>0.140</td>\n      <td>nM</td>\n      <td>CNC(=O)c1ccc(-c2ccc(NC(=O)Nc3cc(Br)cc(C(F)(F)F...</td>\n      <td>9.853872</td>\n      <td>&lt;rdkit.Chem.rdchem.Mol object at 0x7fb11b05d580&gt;</td>\n      <td>1</td>\n    </tr>\n  </tbody>\n</table>\n</div>"
     },
     "execution_count": 7,
     "metadata": {},
     "output_type": "execute_result"
    }
   ],
   "source": [
    "df.head()"
   ],
   "metadata": {
    "collapsed": false,
    "ExecuteTime": {
     "end_time": "2024-11-20T16:45:53.619489Z",
     "start_time": "2024-11-20T16:45:53.611337Z"
    }
   },
   "id": "a2e390b2cf1eef6",
   "execution_count": 7
  },
  {
   "cell_type": "code",
   "outputs": [
    {
     "name": "stdout",
     "output_type": "stream",
     "text": [
      "训练集大小: 160\n",
      "测试集大小: 40\n"
     ]
    }
   ],
   "source": [
    "# 特征和标签\n",
    "\n",
    "# if 'pIC50' in df.columns:\n",
    "#     # 这个是有pic50列的情况\n",
    "#     X   = df['smiles']\n",
    "#     y   = df['active']\n",
    "#     # 划分训练集和测试集df['active'] 如果是0，则为测试集，1为训练集\n",
    "#     X_train = df[df['active'] == 1]['smiles']\n",
    "#     X_test = df[df['active'] == 0]['smiles']\n",
    "#     y_train = df[df['active'] == 1]['active']\n",
    "#     y_test = df[df['active'] == 0]['active']\n",
    "# \n",
    "#     print(f\"训练集大小: {len(X_train)}\")\n",
    "#     print(f\"测试集大小: {len(X_test)}\")\n",
    "# else:\n",
    "# 这个是没有pic50列的情况\n",
    "X = df['smiles']\n",
    "y = df['active']\n",
    "\n",
    "# 划分训练集和测试集\n",
    "X_train, X_test, y_train, y_test = train_test_split(\n",
    "    X, y, test_size=0.2, random_state=RANDOM_STATE, stratify=y if 'pIC50' in df.columns else None\n",
    ")\n",
    "\n",
    "print(f\"训练集大小: {len(X_train)}\")\n",
    "print(f\"测试集大小: {len(X_test)}\")\n"
   ],
   "metadata": {
    "collapsed": false,
    "ExecuteTime": {
     "end_time": "2024-11-20T16:46:48.834579Z",
     "start_time": "2024-11-20T16:46:48.828405Z"
    }
   },
   "id": "3a2ace3f9947ade7",
   "execution_count": 18
  },
  {
   "cell_type": "markdown",
   "source": [
    "## 4. 分子表示生成\n",
    "\n",
    "### 4.1 分子指纹（Molecular Fingerprints）\n",
    "\n",
    "使用RDKit生成Morgan指纹（也称为ECFP4指纹）。\n",
    "\n",
    "Morgan指纹是一种基于圆筛的分子指纹，它可以捕捉到分子的相似性和排斥性。\n",
    "\n",
    "说明：\n",
    "- `radius`：指纹半径，即生成的指纹包含的原子数量。\n",
    "- `n_bits`：指纹长度，即生成的指纹的二进制位数。\n",
    "- `useFeatures=True`：是否使用特征来生成指纹。\n",
    "- `useChirality=True`：是否考虑化学键来生成指纹。\n",
    "- `useBondTypes=True`：是否考虑化学键类型来生成指纹。\n",
    "- `useCounts=True`：是否考虑原子计数来生成指纹。\n",
    "\n",
    "下面的get_morgan_fingerprint函数使用RDKit的AllChem模块来生成Morgan指纹。"
   ],
   "metadata": {
    "collapsed": false
   },
   "id": "da290316a359cff6"
  },
  {
   "cell_type": "code",
   "outputs": [
    {
     "name": "stdout",
     "output_type": "stream",
     "text": [
      "分子指纹生成完成\n"
     ]
    }
   ],
   "source": [
    "def get_morgan_fingerprint(smiles, radius=2, n_bits=2048):\n",
    "    \"\"\"\n",
    "    Generate Morgan fingerprints for a SMILES string.\n",
    "    Args:\n",
    "        smiles (str): SMILES string.\n",
    "        radius (int): Morgan fingerprint radius.\n",
    "        n_bits (int): Number of bits in the fingerprint.\n",
    "    Returns:\n",
    "        np.array: Morgan fingerprint.\n",
    "    \"\"\"\n",
    "    mol = Chem.MolFromSmiles(smiles)\n",
    "    if mol:\n",
    "        fp = AllChem.GetMorganFingerprintAsBitVect(mol, radius, nBits=n_bits)\n",
    "        return np.array(fp)\n",
    "    else:\n",
    "        return np.zeros(n_bits)\n",
    "\n",
    "# 生成指纹\n",
    "X_train_fingerprints = np.array([get_morgan_fingerprint(smile) for smile in X_train])\n",
    "X_test_fingerprints = np.array([get_morgan_fingerprint(smile) for smile in X_test])\n",
    "\n",
    "print(\"分子指纹生成完成\")\n"
   ],
   "metadata": {
    "collapsed": false,
    "ExecuteTime": {
     "end_time": "2024-11-20T16:46:50.309392Z",
     "start_time": "2024-11-20T16:46:49.510691Z"
    }
   },
   "id": "b662e509ed057a78",
   "execution_count": 19
  },
  {
   "cell_type": "markdown",
   "source": [
    "### 4.2 图表示（Graph Representation）\n",
    "\n",
    "利用RDKit生成基于图的分子描述符，例如分子指纹的不同类型、分子图的拓扑特征等。这里我们将使用分子描述符作为图表示的简化版本。\n",
    "\n",
    "分子描述符是指根据分子的结构和化学特性，计算得到的特征向量。\n",
    "说明：\n",
    "- `rdkit.Chem.rdchem.Mol`：RDKit分子对象。\n",
    "- `rdkit.Chem.rdchem.Mol.GetAtoms()`：获取分子的所有原子。\n",
    "- `rdkit.Chem.rdchem.Mol.GetBonds()`：获取分子的所有化学键。\n",
    "- `rdkit.Chem.rdchem.Bond.GetBondType()`：获取化学键的类型。\n",
    "- `rdkit.Chem.rdchem.Bond.GetBeginAtomIdx()`：获取化学键的起始原子索引。\n",
    "- `rdkit.Chem.rdchem.Bond.GetEndAtomIdx()`：获取化学键的终止原子索引。\n",
    "- `rdkit.Chem.rdchem.Atom.GetAtomicNum()`：获取原子的原子编号。\n",
    "- `rdkit.Chem.rdchem.Atom.GetTotalDegree()`：获取原子的总度数。\n",
    "- `rdkit.Chem.rdchem.Atom.GetTotalValence()`：获取原子的总价电数。\n",
    "- `rdkit.Chem.rdchem.Atom.GetTotalNumHs()`：获取原子的总氢原子。\n",
    "\n",
    "下面的get_mol_descriptors函数使用RDKit的Descriptors模块来生成分子描述符。"
   ],
   "metadata": {
    "collapsed": false
   },
   "id": "8419ef472bf5c632"
  },
  {
   "cell_type": "code",
   "outputs": [],
   "source": [
    "def get_molecular_descriptors(mol):\n",
    "    \"\"\"\n",
    "    Generate molecular descriptors for a RDKit molecule object.\n",
    "    Args:\n",
    "        mol (rdkit.Chem.rdchem.Mol): RDKit molecule object.\n",
    "    Returns:\n",
    "        dict: Molecular descriptors.\n",
    "    \"\"\"\n",
    "    descriptors = {}\n",
    "    for desc_name, func in Descriptors.descList:\n",
    "        descriptors[desc_name] = func(mol)\n",
    "    return descriptors\n",
    "\n",
    "# 生成分子描述符\n",
    "X_train_graph = df.loc[X_train.index, 'mol'].apply(get_molecular_descriptors).apply(pd.Series).fillna(0).values\n",
    "X_test_graph = df.loc[X_test.index, 'mol'].apply(get_molecular_descriptors).apply(pd.Series).fillna(0).values\n",
    "\n",
    "print(\"图表示生成完成\")\n"
   ],
   "metadata": {
    "collapsed": false,
    "is_executing": true,
    "ExecuteTime": {
     "start_time": "2024-11-20T16:46:51.053136Z"
    }
   },
   "id": "e3b7da96a1e439f0",
   "execution_count": null
  },
  {
   "cell_type": "markdown",
   "source": [
    "### 4.3 连续表示（Continuous Representation）\n",
    "\n",
    "使用PCA将指纹降维至较低的维度，以获得连续表示。\n",
    "说明：\n",
    "- `n_components`：降维后的维度。\n",
    "- `random_state`：随机数种子。\n",
    "\n",
    "下面的get_continuous_representation函数使用scikit-learn的PCA模块来降维。"
   ],
   "metadata": {
    "collapsed": false
   },
   "id": "a11d495049c11151"
  },
  {
   "cell_type": "code",
   "outputs": [],
   "source": [
    "# 标准化指纹\n",
    "scaler = StandardScaler()\n",
    "X_train_fingerprints_scaled = scaler.fit_transform(X_train_fingerprints)\n",
    "X_test_fingerprints_scaled = scaler.transform(X_test_fingerprints)\n",
    "\n",
    "# PCA降维\n",
    "pca = PCA(n_components=100, random_state=RANDOM_STATE)\n",
    "X_train_continuous = pca.fit_transform(X_train_fingerprints_scaled)\n",
    "X_test_continuous = pca.transform(X_test_fingerprints_scaled)\n",
    "\n",
    "print(\"连续表示生成完成\")\n"
   ],
   "metadata": {
    "collapsed": false,
    "is_executing": true
   },
   "id": "4d9c208d9b142247",
   "execution_count": null
  },
  {
   "cell_type": "markdown",
   "source": [
    "## 5. 机器学习模型训练与评估\n",
    "\n",
    "### 5.1 随机森林（Random Forest）\n",
    "随机森林是一种基于树的集成学习方法，它可以有效地处理高维、非线性和缺失数据。\n",
    "说明：\n",
    "- `n_estimators`：树的数量。\n",
    "- `random_state`：随机数种子。\n",
    "公式：\n",
    "- $y = \\frac{1}{N} \\sum_{i=1}^N \\sum_{c=1}^C \\left[ \\frac{w_c}{N_c} \\sum_{j:x_j \\in R_c(x_i)} y_j \\right]$\n",
    "- $R_c(x_i)$：第$c$类样本中与$x_i$距离最近的样本集合。\n",
    "- $N_c$：第$c$类样本的数量。\n",
    "- $w_c$：第$c$类样本的权重。\n",
    "\n",
    "\n",
    "\n",
    "下面的train_random_forest函数使用scikit-learn的RandomForestClassifier模块来训练随机森林模型。"
   ],
   "metadata": {
    "collapsed": false
   },
   "id": "45206f8cd04e4add"
  },
  {
   "cell_type": "code",
   "outputs": [],
   "source": [
    "# 训练随机森林模型\n",
    "rf = RandomForestClassifier(n_estimators=100, random_state=RANDOM_STATE)\n",
    "rf.fit(X_train_fingerprints, y_train)\n",
    "\n",
    "# 预测概率\n",
    "y_pred_rf_proba = rf.predict_proba(X_test_fingerprints)[:, 1]\n"
   ],
   "metadata": {
    "collapsed": false,
    "is_executing": true
   },
   "id": "5a0e166952703295",
   "execution_count": null
  },
  {
   "cell_type": "markdown",
   "source": [
    "5.2 支持向量机（SVM）\n",
    "支持向量机（SVM）是一种二类分类模型，它通过最大化间隔边界来间隔数据点。\n",
    "说明：\n",
    "- `C`：软间隔惩罚参数。\n",
    "- `kernel`：核函数类型。\n",
    "- `gamma`：核函数参数。\n",
    "公式：\n",
    "- $f(x) = \\sum_{i=1}^N \\alpha_i y_i K(x_i, x) + b$\n",
    "- $K(x_i, x_j) = \\left\\{\\begin{matrix} \\exp(-\\gamma ||x_i - x_j||^2) & \\text{if } x_i \\neq x_j \\\\ 0 & \\text{if } x_i = x_j \\end{matrix}\\right.$\n",
    "- $\\alpha_i$：第$i$个支持向量的拉格朗日乘子。\n",
    "- $b$：偏置项。\n",
    "\n",
    "下面的train_svm函数使用scikit-learn的SVC模块来训练SVM模型。"
   ],
   "metadata": {
    "collapsed": false
   },
   "id": "534c567b3f682418"
  },
  {
   "cell_type": "code",
   "outputs": [],
   "source": [
    "# 训练SVM模型\n",
    "svm = SVC(probability=True, random_state=RANDOM_STATE)\n",
    "svm.fit(X_train_fingerprints, y_train)\n",
    "\n",
    "# 预测概率\n",
    "y_pred_svm_proba = svm.predict_proba(X_test_fingerprints)[:, 1]\n"
   ],
   "metadata": {
    "collapsed": false,
    "is_executing": true
   },
   "id": "88f31ecfca56502b",
   "execution_count": null
  },
  {
   "cell_type": "markdown",
   "source": [
    "### 5.3 人工神经网络（ANN）\n",
    "\n",
    "构建一个简单的全连接神经网络。\n",
    "\n",
    "说明：\n",
    "    - `input_dim`：输入特征的维度。\n",
    "    - `hidden_dim`：隐藏层的维度。\n",
    "    - `output_dim`：输出层的维度。\n",
    "    - `num_layers`：隐藏层的数量。\n",
    "    - `dropout`：dropout概率。\n",
    "    - `learning_rate`：学习率。\n",
    "    - `num_epochs`：训练轮数。\n",
    "\n",
    "公式：\n",
    "    - $f(x) = \\sigma(W_2 \\sigma(W_1 x + b_1) + b_2)$\n",
    "    - $\\sigma(x) = \\frac{1}{1 + e^{-x}}$    \n",
    "    - $W_1, b_1, W_2, b_2$：权重和偏置。\n",
    "\n",
    "下面的train_ann函数使用PyTorch的nn模块来构建ANN模型。"
   ],
   "metadata": {
    "collapsed": false
   },
   "id": "a7330a4db8e88eef"
  },
  {
   "cell_type": "code",
   "outputs": [],
   "source": [
    "class ANN(nn.Module):\n",
    "    '''\n",
    "    ANN模型: 输入层 -> 隐藏层 -> 输出层\n",
    "    '''\n",
    "    def __init__(self, input_size):\n",
    "        super(ANN, self).__init__()\n",
    "        self.fc1 = nn.Linear(input_size, 512)\n",
    "        self.relu1 = nn.ReLU()\n",
    "        self.fc2 = nn.Linear(512, 256)\n",
    "        self.relu2 = nn.ReLU()\n",
    "        self.fc3 = nn.Linear(256, 1)\n",
    "        self.sigmoid = nn.Sigmoid()\n",
    "    \n",
    "    def forward(self, x):\n",
    "        out = self.relu1(self.fc1(x))\n",
    "        out = self.relu2(self.fc2(out))\n",
    "        out = self.sigmoid(self.fc3(out))\n",
    "        return out\n",
    "\n",
    "# 创建数据集\n",
    "class MoleculeDataset(Dataset):\n",
    "    def __init__(self, X, y):\n",
    "        self.X = torch.tensor(X, dtype=torch.float32)\n",
    "        self.y = torch.tensor(y.values, dtype=torch.float32).view(-1, 1)\n",
    "    \n",
    "    def __len__(self):\n",
    "        return len(self.y)\n",
    "    \n",
    "    def __getitem__(self, idx):\n",
    "        return self.X[idx], self.y[idx]\n",
    "\n",
    "# 训练与测试数据集\n",
    "train_dataset = MoleculeDataset(X_train_continuous, y_train)\n",
    "test_dataset = MoleculeDataset(X_test_continuous, y_test)\n",
    "\n",
    "# 创建数据加载器\n",
    "train_loader = DataLoader(train_dataset, batch_size=32, shuffle=True)\n",
    "test_loader = DataLoader(test_dataset, batch_size=32, shuffle=False)\n",
    "\n",
    "# 初始化模型\n",
    "ann = ANN(input_size=X_train_continuous.shape[1])\n",
    "criterion = nn.BCELoss()\n",
    "optimizer = optim.Adam(ann.parameters(), lr=0.001)\n",
    "\n",
    "# 训练模型\n",
    "epochs = 20 # 训练轮数\n",
    "ann.train()\n",
    "for epoch in range(epochs):\n",
    "    for X_batch, y_batch in train_loader:\n",
    "        optimizer.zero_grad()\n",
    "        outputs = ann(X_batch)\n",
    "        loss = criterion(outputs, y_batch)\n",
    "        loss.backward()\n",
    "        optimizer.step()\n",
    "    print(f\"Epoch [{epoch+1}/{epochs}], Loss: {loss.item():.4f}\")\n",
    "\n",
    "# 评估模型\n",
    "ann.eval()\n",
    "y_pred_ann_proba = []\n",
    "with torch.no_grad():\n",
    "    for X_batch, _ in test_loader:\n",
    "        outputs = ann(X_batch)\n",
    "        y_pred_ann_proba.extend(outputs.numpy().flatten())\n",
    "\n",
    "print(\"ANN训练与预测完成\")\n"
   ],
   "metadata": {
    "collapsed": false,
    "is_executing": true
   },
   "id": "99f676659d1771ab",
   "execution_count": null
  },
  {
   "cell_type": "markdown",
   "source": [
    "### 5.4 卷积神经网络（CNN）\n",
    "\n",
    "构建一个简单的1D卷积神经网络。\n",
    "\n",
    "说明：\n",
    "    - `input_size`：输入特征的维度。\n",
    "    - `num_classes`：输出层的维度。\n",
    "    - `num_filters`：卷积核的数量。\n",
    "    - `kernel_size`：卷积核的大小。\n",
    "    - `padding`：填充的大小。\n",
    "    - `pool_size`：池化层的大小。\n",
    "    - `num_epochs`：训练轮数。\n",
    "\n",
    "公式：\n",
    "    - $f(x) = \\sigma(W_2 \\sigma(W_1 x + b_1) + b_2)$\n",
    "    - $\\sigma(x) = \\frac{1}{1 + e^{-x}}$    \n",
    "    - $W_1, b_1, W_2, b_2$：权重和偏置。\n",
    "\n",
    "这里，我们将使用SMILES字符串的字符级嵌入并应用1D CNN进行预测。"
   ],
   "metadata": {
    "collapsed": false
   },
   "id": "e40153e8cea5588b"
  },
  {
   "cell_type": "code",
   "outputs": [],
   "source": [
    "# 使用CountVectorizer将SMILES转化为特征向量\n",
    "vectorizer = CountVectorizer(analyzer='char', ngram_range=(2, 3))\n",
    "X_train_smiles = vectorizer.fit_transform(X_train).toarray()\n",
    "X_test_smiles = vectorizer.transform(X_test).toarray()\n",
    "\n",
    "# 标准化\n",
    "scaler_cnn = StandardScaler()\n",
    "X_train_smiles_scaled = scaler_cnn.fit_transform(X_train_smiles)\n",
    "X_test_smiles_scaled = scaler_cnn.transform(X_test_smiles)\n",
    "\n",
    "# 定义CNN模型\n",
    "class SimpleCNN(nn.Module):\n",
    "    def __init__(self, input_size, num_classes=1):\n",
    "        super(SimpleCNN, self).__init__()\n",
    "        self.conv1 = nn.Conv1d(in_channels=1, out_channels=32, kernel_size=3, padding=1)\n",
    "        self.relu1 = nn.ReLU()\n",
    "        self.pool1 = nn.MaxPool1d(kernel_size=2)\n",
    "        self.conv2 = nn.Conv1d(32, 64, 3, padding=1)\n",
    "        self.relu2 = nn.ReLU()\n",
    "        self.pool2 = nn.MaxPool1d(2)\n",
    "        self.fc1 = nn.Linear(64 * (input_size // 4), 128)\n",
    "        self.relu3 = nn.ReLU()\n",
    "        self.fc2 = nn.Linear(128, 1)\n",
    "        self.sigmoid = nn.Sigmoid()\n",
    "    \n",
    "    def forward(self, x):\n",
    "        out = self.pool1(self.relu1(self.conv1(x)))\n",
    "        out = self.pool2(self.relu2(self.conv2(out)))\n",
    "        out = out.view(out.size(0), -1)\n",
    "        out = self.relu3(self.fc1(out))\n",
    "        out = self.sigmoid(self.fc2(out))\n",
    "        return out\n",
    "\n",
    "# 创建数据集\n",
    "class SMILESDataset(Dataset):\n",
    "    def __init__(self, X, y):\n",
    "        self.X = torch.tensor(X, dtype=torch.float32).unsqueeze(1)  # Add channel dimension\n",
    "        self.y = torch.tensor(y.values, dtype=torch.float32).view(-1, 1)\n",
    "    \n",
    "    def __len__(self):\n",
    "        return len(self.y)\n",
    "    \n",
    "    def __getitem__(self, idx):\n",
    "        return self.X[idx], self.y[idx]\n",
    "\n",
    "train_dataset_cnn = SMILESDataset(X_train_smiles_scaled, y_train)\n",
    "test_dataset_cnn = SMILESDataset(X_test_smiles_scaled, y_test)\n",
    "\n",
    "train_loader_cnn = DataLoader(train_dataset_cnn, batch_size=32, shuffle=True)\n",
    "test_loader_cnn = DataLoader(test_dataset_cnn, batch_size=32, shuffle=False)\n",
    "\n",
    "# 初始化模型\n",
    "input_size_cnn = X_train_smiles_scaled.shape[1]\n",
    "cnn = SimpleCNN(input_size=input_size_cnn)\n",
    "criterion_cnn = nn.BCELoss()\n",
    "optimizer_cnn = optim.Adam(cnn.parameters(), lr=0.001)\n",
    "\n",
    "# 训练模型\n",
    "epochs_cnn = 10\n",
    "cnn.train()\n",
    "for epoch in range(epochs_cnn):\n",
    "    for X_batch, y_batch in train_loader_cnn:\n",
    "        optimizer_cnn.zero_grad()\n",
    "        outputs = cnn(X_batch)\n",
    "        loss = criterion_cnn(outputs, y_batch)\n",
    "        loss.backward()\n",
    "        optimizer_cnn.step()\n",
    "    print(f\"Epoch [{epoch+1}/{epochs_cnn}], Loss: {loss.item():.4f}\")\n",
    "\n",
    "# 评估模型\n",
    "cnn.eval()\n",
    "y_pred_cnn_proba = []\n",
    "with torch.no_grad():\n",
    "    for X_batch, _ in test_loader_cnn:\n",
    "        outputs = cnn(X_batch)\n",
    "        y_pred_cnn_proba.extend(outputs.numpy().flatten())\n",
    "\n",
    "print(\"CNN训练与预测完成\")\n"
   ],
   "metadata": {
    "collapsed": false,
    "is_executing": true
   },
   "id": "393fc9881f0b13dd",
   "execution_count": null
  },
  {
   "cell_type": "markdown",
   "source": [
    "## 6. 模型评估与可视化\n",
    "### 6.1 评估指标\n",
    "\n",
    "我们将使用AUC-ROC曲线来评估模型的性能。\n",
    "\n",
    "AUC-ROC曲线：\n",
    "- 横轴：真正例率（TPR）= 真阳性率（TPR）= 召回率（Recall）= TPR = TP / (TP + FN)\n",
    "- 纵轴：假正例率（FPR）= 假阴性率（FPR）= 1 - 特异性（Specificity）= FPR = FP / (FP + TN)\n",
    "- 面积：AUC = 0.5 * (TPR + FPR)\n",
    "\n",
    "AUC值：\n",
    "- 0.5：随机模型\n",
    "- 1：完美模型\n",
    "- 0：最差模型\n",
    "\n",
    "### 6.2 ROC曲线\n",
    "\n",
    "ROC曲线（Receiver Operating Characteristic Curve）：\n",
    "- 横轴：FPR\n",
    "- 纵轴：TPR\n",
    "- 面积：AUC\n",
    "\n",
    "AUC值：\n",
    "- 0.5：随机模型\n",
    "- 1：完美模型\n",
    "- 0：最差模型\n",
    "\n",
    "下面的plot_roc函数使用scikit-learn的roc_curve函数来绘制ROC曲线。"
   ],
   "metadata": {
    "collapsed": false
   },
   "id": "698848e4fce8d693"
  },
  {
   "cell_type": "code",
   "outputs": [],
   "source": [
    "# 计算ROC曲线和AUC\n",
    "# Random Forest\n",
    "fpr_rf, tpr_rf, _ = roc_curve(y_test, y_pred_rf_proba)\n",
    "roc_auc_rf = auc(fpr_rf, tpr_rf)\n",
    "\n",
    "# SVM\n",
    "fpr_svm, tpr_svm, _ = roc_curve(y_test, y_pred_svm_proba)\n",
    "roc_auc_svm = auc(fpr_svm, tpr_svm)\n",
    "\n",
    "# ANN\n",
    "fpr_ann, tpr_ann, _ = roc_curve(y_test, y_pred_ann_proba)\n",
    "roc_auc_ann = auc(fpr_ann, tpr_ann)\n",
    "\n",
    "# CNN\n",
    "fpr_cnn, tpr_cnn, _ = roc_curve(y_test, y_pred_cnn_proba)\n",
    "roc_auc_cnn = auc(fpr_cnn, tpr_cnn)\n",
    "\n",
    "# 绘制ROC曲线\n",
    "plt.figure(figsize=(10, 8))\n",
    "plt.plot(fpr_rf, tpr_rf, color='blue', label=f'RF (AUC = {roc_auc_rf:.2f})')\n",
    "plt.plot(fpr_svm, tpr_svm, color='green', label=f'SVM (AUC = {roc_auc_svm:.2f})')\n",
    "plt.plot(fpr_ann, tpr_ann, color='red', label=f'ANN (AUC = {roc_auc_ann:.2f})')\n",
    "plt.plot(fpr_cnn, tpr_cnn, color='purple', label=f'CNN (AUC = {roc_auc_cnn:.2f})')\n",
    "plt.plot([0, 1], [0, 1], color='grey', linestyle='--')\n",
    "plt.xlabel('False Positive Rate')\n",
    "plt.ylabel('True Positive Rate')\n",
    "plt.title('ROC curve')\n",
    "plt.legend(loc='lower right')\n",
    "plt.grid(True)\n",
    "# 保存ROC曲线，DPI为300\n",
    "plt.savefig(DATA/'ROC_curve.png', dpi=300)\n",
    "plt.show()"
   ],
   "metadata": {
    "collapsed": false,
    "is_executing": true
   },
   "id": "ec02920f7dae8264",
   "execution_count": null
  },
  {
   "cell_type": "markdown",
   "source": [
    "## 7. 结论\n",
    "\n",
    "通过上述步骤，我们成功地：\n",
    "\n",
    "1. 生成了分子指纹、图表示和连续表示。\n",
    "2. 训练了随机森林、支持向量机、人工神经网络和卷积神经网络模型。\n",
    "3. 评估了各模型的性能，并通过ROC曲线和AUC值进行可视化。\n",
    "\n",
    "这些模型在药物活性预测中展示了不同的性能特点，帮助研究人员选择合适的工具进行药物设计与优化。"
   ],
   "metadata": {
    "collapsed": false
   },
   "id": "1b30f4dfd83db6a8"
  },
  {
   "cell_type": "code",
   "outputs": [],
   "source": [],
   "metadata": {
    "collapsed": false,
    "is_executing": true
   },
   "id": "b08a8d71bc0e2398",
   "execution_count": null
  }
 ],
 "metadata": {
  "kernelspec": {
   "display_name": "Python 3",
   "language": "python",
   "name": "python3"
  },
  "language_info": {
   "codemirror_mode": {
    "name": "ipython",
    "version": 2
   },
   "file_extension": ".py",
   "mimetype": "text/x-python",
   "name": "python",
   "nbconvert_exporter": "python",
   "pygments_lexer": "ipython2",
   "version": "2.7.6"
  }
 },
 "nbformat": 4,
 "nbformat_minor": 5
}
