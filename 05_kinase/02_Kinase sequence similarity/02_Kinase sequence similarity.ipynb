{
 "cells": [
  {
   "cell_type": "markdown",
   "source": [
    "# AIGC在药物设计中的应用：激酶相似性分析\n",
    "## 演示激酶的相似性分析，包括序列相似性、口袋相似性（KiSSim指纹）、相互作用指纹相似性、配体谱相似性等多个视角。\n"
   ],
   "metadata": {
    "collapsed": false
   },
   "id": "2b10da61f7e2e190"
  },
  {
   "cell_type": "markdown",
   "source": [
    "## 引言\n",
    "\n",
    "激酶是一类重要的酶，参与细胞内信号转导、细胞周期调控等关键生物过程。在药物设计中，激酶作为靶点的研究尤为重要，尤其是在癌症等疾病的治疗中。理解激酶之间的相似性有助于发现新药物、优化现有药物以及预测药物的潜在靶点。\n",
    "\n",
    "本笔记本将介绍如何从多个视角分析激酶的相似性，包括序列相似性、口袋相似性、相互作用指纹相似性和配体谱相似性，并通过综合分析提升对激酶功能和药物作用机制的理解。\n",
    "\n",
    "---\n",
    "\n",
    "## 导入必要的库\n",
    "\n",
    "首先，我们需要导入所需的Python库。这些库包括数据处理、生物信息学分析、机器学习模型以及可视化工具。\n"
   ],
   "metadata": {
    "collapsed": false
   },
   "id": "7a87baa38d992f88"
  },
  {
   "cell_type": "code",
   "outputs": [
    {
     "name": "stdout",
     "output_type": "stream",
     "text": [
      "Requirement already satisfied: biopython in /opt/anaconda3/envs/teachopencadd/lib/python3.8/site-packages (1.83)\r\n",
      "\u001B[31mERROR: Could not find a version that satisfies the requirement pymol (from versions: none)\u001B[0m\u001B[31m\r\n",
      "\u001B[0m\u001B[31mERROR: No matching distribution found for pymol\u001B[0m\u001B[31m\r\n",
      "\u001B[0m"
     ]
    }
   ],
   "source": [
    "import pandas as pd\n",
    "import numpy as np\n",
    "import os\n",
    "import matplotlib.pyplot as plt\n",
    "import seaborn as sns\n",
    "\n",
    "from rdkit import Chem\n",
    "from rdkit.Chem import AllChem, Descriptors, rdMolDescriptors\n",
    "\n",
    "from Bio import SeqIO\n",
    "from Bio import pairwise2\n",
    "from Bio.pairwise2 import format_alignment\n",
    "\n",
    "from sklearn.metrics.pairwise import cosine_similarity\n",
    "from sklearn.metrics import roc_curve, auc, classification_report\n",
    "from sklearn.preprocessing import StandardScaler\n",
    "from sklearn.decomposition import PCA\n",
    "from sklearn.cluster import AgglomerativeClustering\n",
    "\n",
    "import torch\n",
    "import torch.nn as nn\n",
    "import torch.optim as optim\n",
    "from torch.utils.data import Dataset, DataLoader\n",
    "\n",
    "# For binding pocket identification\n",
    "!pip install biopython pymol  # Uncomment if not already installed\n",
    "\n",
    "# Set random seed for reproducibility\n",
    "RANDOM_STATE = 42\n",
    "np.random.seed(RANDOM_STATE)\n",
    "torch.manual_seed(RANDOM_STATE)\n",
    "\n",
    "# Suppress warnings for cleaner output\n",
    "import warnings\n",
    "warnings.filterwarnings('ignore')\n",
    "\n",
    "# 防止中文乱码\n",
    "plt.rcParams['font.sans-serif'] = ['SimHei']\n",
    "plt.rcParams['axes.unicode_minus'] = False\n",
    "\n"
   ],
   "metadata": {
    "collapsed": false,
    "ExecuteTime": {
     "end_time": "2024-11-21T03:16:58.965111Z",
     "start_time": "2024-11-21T03:16:56.912600Z"
    }
   },
   "id": "e5c7d510cbf793a3",
   "execution_count": 6
  },
  {
   "cell_type": "markdown",
   "source": [],
   "metadata": {
    "collapsed": false
   },
   "id": "38d79268a8dbaf6e"
  },
  {
   "cell_type": "code",
   "execution_count": 7,
   "id": "initial_id",
   "metadata": {
    "collapsed": true,
    "ExecuteTime": {
     "end_time": "2024-11-21T03:16:58.975942Z",
     "start_time": "2024-11-21T03:16:58.969292Z"
    }
   },
   "outputs": [
    {
     "name": "stdout",
     "output_type": "stream",
     "text": [
      "/Users/wangyang/Desktop/AIGC-in-drug-design/03_kinase/02_Kinase sequence similarity/data\n"
     ]
    }
   ],
   "source": [
    "from pathlib import Path\n",
    "import os\n",
    "\n",
    "# 获取当前工作目录\n",
    "HERE = Path(os.getcwd())\n",
    "DATA = HERE / 'data'\n",
    "if not DATA.exists():\n",
    "    DATA.mkdir(parents=True, exist_ok=True)\n",
    "print(DATA)"
   ]
  },
  {
   "cell_type": "markdown",
   "source": [
    "## 数据加载与预处理\n",
    "\n",
    "### 加载激酶序列数据\n",
    "\n",
    "假设我们有一个包含激酶序列的FASTA文件`kinases.fasta`，我们将加载并解析这些序列。"
   ],
   "metadata": {
    "collapsed": false
   },
   "id": "ca96a4e470eb67c3"
  },
  {
   "cell_type": "code",
   "outputs": [
    {
     "name": "stderr",
     "output_type": "stream",
     "text": [
      "100%|██████████| 825653/825653 [00:00<00:00, 5675058.18it/s]"
     ]
    },
    {
     "name": "stdout",
     "output_type": "stream",
     "text": [
      "加载了 825653 个激酶序列。\n"
     ]
    },
    {
     "name": "stderr",
     "output_type": "stream",
     "text": [
      "\n"
     ]
    }
   ],
   "source": [
    "# 定义数据路径\n",
    "sequence_data_path = DATA / 'kinases.fasta'\n",
    "\n",
    "# 解析FASTA文件\n",
    "kinase_sequences = {}\n",
    "for record in SeqIO.parse(sequence_data_path, \"fasta\"):\n",
    "    kinase_id = record.id\n",
    "    sequence = str(record.seq)\n",
    "    kinase_sequences[kinase_id] = sequence\n",
    "    \n",
    "# 加载进度条，这里用tqdm库实现\n",
    "from tqdm import tqdm\n",
    "# 加载进度条\n",
    "list(tqdm(kinase_sequences))\n",
    "print(f\"加载了 {len(kinase_sequences)} 个激酶序列。\")\n",
    "\n"
   ],
   "metadata": {
    "collapsed": false,
    "ExecuteTime": {
     "end_time": "2024-11-21T03:24:43.048940Z",
     "start_time": "2024-11-21T03:24:36.130095Z"
    }
   },
   "id": "bcbd96ae52c7a246",
   "execution_count": 13
  },
  {
   "cell_type": "markdown",
   "source": [],
   "metadata": {
    "collapsed": false
   },
   "id": "ad23bc1a20258e9a"
  },
  {
   "cell_type": "markdown",
   "source": [
    "### 加载激酶结构数据\n",
    "\n",
    "假设我们有一个包含激酶PDB文件的目录`structures/`，我们将加载这些结构以进行口袋识别。"
   ],
   "metadata": {
    "collapsed": false
   },
   "id": "251f40d3d2ac593e"
  },
  {
   "cell_type": "code",
   "outputs": [
    {
     "name": "stdout",
     "output_type": "stream",
     "text": [
      "加载了 16 个激酶结构文件。\n"
     ]
    }
   ],
   "source": [
    "# 定义结构数据路径\n",
    "structure_dir = DATA /'structures'\n",
    "\n",
    "# 列出所有PDB文件\n",
    "pdb_files = [f for f in os.listdir(structure_dir) if f.endswith('.pdb')]\n",
    "\n",
    "print(f\"加载了 {len(pdb_files)} 个激酶结构文件。\")\n"
   ],
   "metadata": {
    "collapsed": false,
    "ExecuteTime": {
     "end_time": "2024-11-21T03:40:55.317592Z",
     "start_time": "2024-11-21T03:40:55.313026Z"
    }
   },
   "id": "df5714ac0652d9c5",
   "execution_count": 19
  },
  {
   "cell_type": "code",
   "outputs": [],
   "source": [],
   "metadata": {
    "collapsed": false,
    "ExecuteTime": {
     "end_time": "2024-11-21T03:40:55.517833Z",
     "start_time": "2024-11-21T03:40:55.515216Z"
    }
   },
   "id": "e09775dd8788b844",
   "execution_count": 19
  },
  {
   "cell_type": "code",
   "outputs": [],
   "source": [],
   "metadata": {
    "collapsed": false
   },
   "id": "1ecc508aaeb37dbb"
  }
 ],
 "metadata": {
  "kernelspec": {
   "display_name": "Python 3",
   "language": "python",
   "name": "python3"
  },
  "language_info": {
   "codemirror_mode": {
    "name": "ipython",
    "version": 2
   },
   "file_extension": ".py",
   "mimetype": "text/x-python",
   "name": "python",
   "nbconvert_exporter": "python",
   "pygments_lexer": "ipython2",
   "version": "2.7.6"
  }
 },
 "nbformat": 4,
 "nbformat_minor": 5
}
